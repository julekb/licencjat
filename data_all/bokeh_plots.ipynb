{
 "cells": [
  {
   "cell_type": "code",
   "execution_count": null,
   "metadata": {
    "collapsed": false
   },
   "outputs": [],
   "source": [
    "import getdata_script as gd\n",
    "from bokeh.plotting import figure, show, output_notebook\n",
    "import numpy as np\n",
    "output_notebook()\n",
    "\n",
    "\n",
    "import glob\n",
    "filenames = glob.glob(\"badanie1*.csv\")\n",
    "data = []\n",
    "for name in filenames:\n",
    "\tdata.append(gd.GetData(name))\n",
    "    \n",
    "d = data\n",
    "for dd in d:\n",
    "    dd = dd.sort_values(by='stimulus')\n",
    "\n",
    "df_dev = gd.VarDev()\n",
    "df_dev_len = df_dev.count()[1]\n",
    "\n"
   ]
  },
  {
   "cell_type": "code",
   "execution_count": null,
   "metadata": {
    "collapsed": false
   },
   "outputs": [],
   "source": [
    "import pickle as pkl\n",
    "path = \"\"\n",
    "with open(path+\"pilot_data.pkl\", 'rb') as f: #testowo mniejszy plik\n",
    "\tdata_all = pkl.load(f)"
   ]
  },
  {
   "cell_type": "code",
   "execution_count": null,
   "metadata": {
    "collapsed": false,
    "scrolled": false
   },
   "outputs": [],
   "source": [
    "#wykres odcięcia danych, tylko trzeba pilnować, żeby df_dev to były wszystkie razem z usuniętymi\n",
    "df_dev_stare = df_dev\n",
    "df_dev = df_dev_stare\n",
    "df_dev_len = len(df_dev_stare)\n",
    "f=figure(title=\"suma odchyleń - odcięcie\")\n",
    "df_dev = df_dev.sort_values(by='sum_dev')\n",
    "\n",
    "\n",
    "\n",
    "f.line([x for x in range(df_dev_len)], df_dev['sum_dev'])\n",
    "# f.line([x for x in range(len(df_dev))], df_dev['sum_sdev'])\n",
    "f.ray(x=[236], y=[0], length=0, angle=np.pi/2, line_width=1, color='red')\n",
    "f.line()\n",
    "show(f)"
   ]
  },
  {
   "cell_type": "code",
   "execution_count": null,
   "metadata": {
    "collapsed": false
   },
   "outputs": [],
   "source": [
    "#wyszukiwanie wartości przekraczającej MAX do wykresów z odcięciem\n",
    "MAX = 1500\n",
    "df_dev['sum_dev'].values\n",
    "\n",
    "val = 0\n",
    "for v in reversed(df_dev['sum_dev'].values):\n",
    "    if(v<MAX):\n",
    "        val = v\n",
    "        break\n",
    "    val = v\n",
    "# df_def[]\n",
    "    "
   ]
  },
  {
   "cell_type": "code",
   "execution_count": null,
   "metadata": {
    "collapsed": false,
    "scrolled": true
   },
   "outputs": [],
   "source": [
    "df_dev = df_dev.sort_values(by='sum_dev')"
   ]
  },
  {
   "cell_type": "code",
   "execution_count": null,
   "metadata": {
    "collapsed": false
   },
   "outputs": [],
   "source": [
    "# na razie niczego nie przedstawia\n",
    "f2 = figure(title=\"odcięcie danych\")\n",
    "f2.line(range(6), [1,2,4,6,7,6])\n",
    "# f2.rect(width=4, leng color='red')\n",
    "f2.line(x=[2,5], y=[3,2], color='red')\n",
    "# f2.ray(x=[0], y=[0], length=0, angle=0, line_width=1)\n",
    "f2.ray(x=[0], y=[0], length=0, angle=np.pi/2, line_width=1)\n",
    "show(f2)"
   ]
  },
  {
   "cell_type": "code",
   "execution_count": null,
   "metadata": {
    "collapsed": false,
    "scrolled": true
   },
   "outputs": [],
   "source": [
    "#wykres średnich odpowiedzi i +/- 1 SD\n",
    "f = figure()\n",
    "f.line(d['stimulus'], d['mean'])\n",
    "f.line([1,200], [1,200])\n",
    "f.line(d['stimulus'], d['mean']+d['SD'])\n",
    "f.line(d['stimulus'], d['mean']-d['SD'])\n",
    "show(f)"
   ]
  },
  {
   "cell_type": "code",
   "execution_count": null,
   "metadata": {
    "collapsed": false
   },
   "outputs": [],
   "source": [
    "sdpatch = [[],[]]\n",
    "d2 = d\n",
    "d2 = d2.reset_index()\n",
    "l = len(d)\n",
    "for i in range(l):\n",
    "    sdpatch[0].append(d2['stimulus'][i])\n",
    "    sdpatch[1].append(d2['mean'][i] + d2['SD'][i])\n",
    "    \n",
    "for i in range(l):\n",
    "    sdpatch[0].append(d2['stimulus'][l-1-i])\n",
    "    sdpatch[1].append(d2['mean'][l-1-i] - d2['SD'][l-1-i])\n",
    "    \n",
    "sdpatch\n",
    "    "
   ]
  },
  {
   "cell_type": "code",
   "execution_count": null,
   "metadata": {
    "collapsed": false,
    "scrolled": false
   },
   "outputs": [],
   "source": [
    "#wykres punktowy odpowiedzi i średnia odpowiedzi na czerwono // widać, że jest trochę lepiej niż było!\n",
    "from bokeh.charts import Scatter, show\n",
    "p = figure()\n",
    "for dd in data:\n",
    "    p.scatter(x=dd['stimulus'], y=dd['converted'], color=\"navy\", size=6, alpha=0.3)\n",
    "\n",
    "p.line(d['stimulus'], d['mean'], line_width=3, color=\"red\")\n",
    "p \n",
    "p.patch(sdpatch[0], sdpatch[1], alpha=0.5, line_width=1, color=\"red\")\n",
    "show(p)"
   ]
  },
  {
   "cell_type": "code",
   "execution_count": null,
   "metadata": {
    "collapsed": false,
    "scrolled": true
   },
   "outputs": [],
   "source": [
    "#wykres krzywych odpowiedzi poszczególnych osób, niestety nieczytelny\n",
    "p3 = figure()\n",
    "for dddd in data:\n",
    "    dddd = dddd.sort_values(by='stimulus').reset_index()\n",
    "    p3.line(x=dddd['stimulus'], y=dddd['converted'], color=\"navy\", alpha=0.1, line_width=3)\n",
    "\n",
    "\n",
    "p3.line(d['stimulus'], d['mean'], line_width=3, color=\"red\")\n",
    "# p \n",
    "# p.patch(sdpatch[0], sdpatch[1], alpha=0.5, line_width=1, color=\"red\")\n",
    "show(p3)"
   ]
  },
  {
   "cell_type": "code",
   "execution_count": null,
   "metadata": {
    "collapsed": false,
    "scrolled": true
   },
   "outputs": [],
   "source": [
    "p2 = figure()\n",
    "i = 0\n",
    "data2 = data\n",
    "for  dd in data2:\n",
    "    dd = dd.sort_values(by='stimulus').reset_index()\n",
    "for dd in data2:\n",
    "    if i < 1:\n",
    "        p2.line(x=dd['stimulus'], y=dd['converted'], color=\"navy\", alpha=0.3)\n",
    "    i += 1\n",
    "\n",
    "p2.line(d['stimulus'], d['mean'], line_width=3, color=\"red\")\n",
    "# p \n",
    "# p.patch(sdpatch[0], sdpatch[1], alpha=0.5, line_width=1, color=\"red\")\n",
    "show(p2)"
   ]
  },
  {
   "cell_type": "code",
   "execution_count": null,
   "metadata": {
    "collapsed": false,
    "scrolled": false
   },
   "outputs": [],
   "source": [
    "from sklearn import linear_model\n",
    "from bokeh.charts import Scatter, show\n",
    "c = figure()\n",
    "c.scatter(x=df_perc['stimulus'], y=df_perc['percentage'], color=\"navy\", size=6, alpha=0.3)\n",
    "# for i in range(len(df_perc)):\n",
    "# c.scatter(x=df_perc['stimulus'], y=df_perc['converted'], color=\"navy\", size=6, alpha=0.3)\n",
    "# for dd in data:\n",
    "#     p.scatter(x=dd['stimulus'], y=dd['converted'], color=\"navy\", size=6, alpha=0.3)\n",
    "\n",
    "c.line(df_perc['stimulus'], df_perc['percentage'], line_width=3, color=\"red\")\n",
    "# p \n",
    "# p.patch(sdpatch[0], sdpatch[1], alpha=0.5, line_width=1, color=\"red\")\n",
    "show(c)\n",
    "print(\"korelacja: \", df_perc.corr())"
   ]
  }
 ],
 "metadata": {
  "kernelspec": {
   "display_name": "Python 3",
   "language": "python",
   "name": "python3"
  },
  "language_info": {
   "codemirror_mode": {
    "name": "ipython",
    "version": 3
   },
   "file_extension": ".py",
   "mimetype": "text/x-python",
   "name": "python",
   "nbconvert_exporter": "python",
   "pygments_lexer": "ipython3",
   "version": "3.5.2"
  }
 },
 "nbformat": 4,
 "nbformat_minor": 0
}

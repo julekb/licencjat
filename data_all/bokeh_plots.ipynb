{
 "cells": [
  {
   "cell_type": "code",
   "execution_count": 3,
   "metadata": {
    "collapsed": false
   },
   "outputs": [
    {
     "data": {
      "text/html": [
       "\n",
       "    <div class=\"bk-root\">\n",
       "        <a href=\"http://bokeh.pydata.org\" target=\"_blank\" class=\"bk-logo bk-logo-small bk-logo-notebook\"></a>\n",
       "        <span id=\"f43c8dd1-5233-4273-b752-6825806bc91f\">Loading BokehJS ...</span>\n",
       "    </div>"
      ]
     },
     "metadata": {},
     "output_type": "display_data"
    },
    {
     "data": {
      "application/javascript": [
       "\n",
       "(function(global) {\n",
       "  function now() {\n",
       "    return new Date();\n",
       "  }\n",
       "\n",
       "  var force = \"1\";\n",
       "\n",
       "  if (typeof (window._bokeh_onload_callbacks) === \"undefined\" || force !== \"\") {\n",
       "    window._bokeh_onload_callbacks = [];\n",
       "    window._bokeh_is_loading = undefined;\n",
       "  }\n",
       "\n",
       "  function run_callbacks() {\n",
       "    window._bokeh_onload_callbacks.forEach(function(callback) { callback() });\n",
       "    delete window._bokeh_onload_callbacks\n",
       "    console.info(\"Bokeh: all callbacks have finished\");\n",
       "  }\n",
       "\n",
       "  function load_libs(js_urls, callback) {\n",
       "    window._bokeh_onload_callbacks.push(callback);\n",
       "    if (window._bokeh_is_loading > 0) {\n",
       "      console.log(\"Bokeh: BokehJS is being loaded, scheduling callback at\", now());\n",
       "      return null;\n",
       "    }\n",
       "    if (js_urls == null || js_urls.length === 0) {\n",
       "      run_callbacks();\n",
       "      return null;\n",
       "    }\n",
       "    console.log(\"Bokeh: BokehJS not loaded, scheduling load and callback at\", now());\n",
       "    window._bokeh_is_loading = js_urls.length;\n",
       "    for (var i = 0; i < js_urls.length; i++) {\n",
       "      var url = js_urls[i];\n",
       "      var s = document.createElement('script');\n",
       "      s.src = url;\n",
       "      s.async = false;\n",
       "      s.onreadystatechange = s.onload = function() {\n",
       "        window._bokeh_is_loading--;\n",
       "        if (window._bokeh_is_loading === 0) {\n",
       "          console.log(\"Bokeh: all BokehJS libraries loaded\");\n",
       "          run_callbacks()\n",
       "        }\n",
       "      };\n",
       "      s.onerror = function() {\n",
       "        console.warn(\"failed to load library \" + url);\n",
       "      };\n",
       "      console.log(\"Bokeh: injecting script tag for BokehJS library: \", url);\n",
       "      document.getElementsByTagName(\"head\")[0].appendChild(s);\n",
       "    }\n",
       "  };\n",
       "\n",
       "  var js_urls = ['https://cdn.pydata.org/bokeh/release/bokeh-0.12.1.min.js', 'https://cdn.pydata.org/bokeh/release/bokeh-widgets-0.12.1.min.js', 'https://cdn.pydata.org/bokeh/release/bokeh-compiler-0.12.1.min.js'];\n",
       "\n",
       "  var inline_js = [\n",
       "    function(Bokeh) {\n",
       "      Bokeh.set_log_level(\"info\");\n",
       "    },\n",
       "    \n",
       "    function(Bokeh) {\n",
       "      \n",
       "      Bokeh.$(\"#f43c8dd1-5233-4273-b752-6825806bc91f\").text(\"BokehJS successfully loaded\");\n",
       "      var kernel = Jupyter.notebook.kernel\n",
       "      if (kernel.execute !== undefined) {\n",
       "          kernel.execute(\"import bokeh.io; bokeh.io._nb_loaded = True\");\n",
       "      }\n",
       "    },\n",
       "    function(Bokeh) {\n",
       "      console.log(\"Bokeh: injecting CSS: https://cdn.pydata.org/bokeh/release/bokeh-0.12.1.min.css\");\n",
       "      Bokeh.embed.inject_css(\"https://cdn.pydata.org/bokeh/release/bokeh-0.12.1.min.css\");\n",
       "      console.log(\"Bokeh: injecting CSS: https://cdn.pydata.org/bokeh/release/bokeh-widgets-0.12.1.min.css\");\n",
       "      Bokeh.embed.inject_css(\"https://cdn.pydata.org/bokeh/release/bokeh-widgets-0.12.1.min.css\");\n",
       "    }\n",
       "  ];\n",
       "\n",
       "  function run_inline_js() {\n",
       "    for (var i = 0; i < inline_js.length; i++) {\n",
       "      inline_js[i](window.Bokeh);\n",
       "    }\n",
       "  }\n",
       "\n",
       "  if (window._bokeh_is_loading === 0) {\n",
       "    console.log(\"Bokeh: BokehJS loaded, going straight to plotting\");\n",
       "    run_inline_js();\n",
       "  } else {\n",
       "    load_libs(js_urls, function() {\n",
       "      console.log(\"Bokeh: BokehJS plotting callback run at\", now());\n",
       "      run_inline_js();\n",
       "    });\n",
       "  }\n",
       "}(this));"
      ]
     },
     "metadata": {},
     "output_type": "display_data"
    }
   ],
   "source": [
    "import getdata_script as gd\n",
    "from bokeh.plotting import figure, show, output_notebook\n",
    "import numpy as np\n",
    "output_notebook()\n",
    "\n",
    "\n",
    "import glob\n",
    "filenames = glob.glob(\"badanie1*.csv\")\n",
    "data = []\n",
    "for name in filenames:\n",
    "\tdata.append(gd.GetData(name))\n",
    "    \n",
    "d = data\n",
    "for dd in d:\n",
    "    dd = dd.sort_values(by='stimulus')\n",
    "\n",
    "df_dev = gd.VarDev()\n",
    "df_dev_len = df_dev.count()[1]\n",
    "\n"
   ]
  },
  {
   "cell_type": "code",
   "execution_count": 7,
   "metadata": {
    "collapsed": false
   },
   "outputs": [],
   "source": [
    "import pickle as pkl\n",
    "path = \"\"\n",
    "with open(path+\"pilot_data.pkl\", 'rb') as f: #testowo mniejszy plik\n",
    "\tdata_all = pkl.load(f)"
   ]
  },
  {
   "cell_type": "code",
   "execution_count": 4,
   "metadata": {
    "collapsed": false,
    "scrolled": false
   },
   "outputs": [
    {
     "data": {
      "text/html": [
       "\n",
       "\n",
       "    <div class=\"bk-root\">\n",
       "        <div class=\"plotdiv\" id=\"695dfb76-e771-4f7f-919c-bbf60506a1f2\"></div>\n",
       "    </div>\n",
       "<script type=\"text/javascript\">\n",
       "  \n",
       "  (function(global) {\n",
       "    function now() {\n",
       "      return new Date();\n",
       "    }\n",
       "  \n",
       "    var force = \"\";\n",
       "  \n",
       "    if (typeof (window._bokeh_onload_callbacks) === \"undefined\" || force !== \"\") {\n",
       "      window._bokeh_onload_callbacks = [];\n",
       "      window._bokeh_is_loading = undefined;\n",
       "    }\n",
       "  \n",
       "    function run_callbacks() {\n",
       "      window._bokeh_onload_callbacks.forEach(function(callback) { callback() });\n",
       "      delete window._bokeh_onload_callbacks\n",
       "      console.info(\"Bokeh: all callbacks have finished\");\n",
       "    }\n",
       "  \n",
       "    function load_libs(js_urls, callback) {\n",
       "      window._bokeh_onload_callbacks.push(callback);\n",
       "      if (window._bokeh_is_loading > 0) {\n",
       "        console.log(\"Bokeh: BokehJS is being loaded, scheduling callback at\", now());\n",
       "        return null;\n",
       "      }\n",
       "      if (js_urls == null || js_urls.length === 0) {\n",
       "        run_callbacks();\n",
       "        return null;\n",
       "      }\n",
       "      console.log(\"Bokeh: BokehJS not loaded, scheduling load and callback at\", now());\n",
       "      window._bokeh_is_loading = js_urls.length;\n",
       "      for (var i = 0; i < js_urls.length; i++) {\n",
       "        var url = js_urls[i];\n",
       "        var s = document.createElement('script');\n",
       "        s.src = url;\n",
       "        s.async = false;\n",
       "        s.onreadystatechange = s.onload = function() {\n",
       "          window._bokeh_is_loading--;\n",
       "          if (window._bokeh_is_loading === 0) {\n",
       "            console.log(\"Bokeh: all BokehJS libraries loaded\");\n",
       "            run_callbacks()\n",
       "          }\n",
       "        };\n",
       "        s.onerror = function() {\n",
       "          console.warn(\"failed to load library \" + url);\n",
       "        };\n",
       "        console.log(\"Bokeh: injecting script tag for BokehJS library: \", url);\n",
       "        document.getElementsByTagName(\"head\")[0].appendChild(s);\n",
       "      }\n",
       "    };var element = document.getElementById(\"695dfb76-e771-4f7f-919c-bbf60506a1f2\");\n",
       "    if (element == null) {\n",
       "      console.log(\"Bokeh: ERROR: autoload.js configured with elementid '695dfb76-e771-4f7f-919c-bbf60506a1f2' but no matching script tag was found. \")\n",
       "      return false;\n",
       "    }\n",
       "  \n",
       "    var js_urls = [];\n",
       "  \n",
       "    var inline_js = [\n",
       "      function(Bokeh) {\n",
       "        Bokeh.$(function() {\n",
       "            var docs_json = {\"c5085ab6-aba2-40b4-870f-a9de386996a8\":{\"roots\":{\"references\":[{\"attributes\":{\"formatter\":{\"id\":\"e0f3dd83-f771-4ab7-832c-1ab1e48ccfa6\",\"type\":\"BasicTickFormatter\"},\"plot\":{\"id\":\"e4684acd-5da3-4a0a-9624-cdb6ba83ed70\",\"subtype\":\"Figure\",\"type\":\"Plot\"},\"ticker\":{\"id\":\"7e7929d0-72ca-4310-a600-c41352119b73\",\"type\":\"BasicTicker\"}},\"id\":\"e01af265-d123-4067-98a0-a7a2baf8833c\",\"type\":\"LinearAxis\"},{\"attributes\":{},\"id\":\"ce19da32-4552-4162-88b1-c66a585d6f03\",\"type\":\"BasicTickFormatter\"},{\"attributes\":{\"data_source\":{\"id\":\"a2f1d26b-404f-4b6a-9d1c-9d5afbfec216\",\"type\":\"ColumnDataSource\"},\"glyph\":{\"id\":\"d7ed7630-1b3d-4d22-a043-0d5d3592e961\",\"type\":\"Ray\"},\"hover_glyph\":null,\"nonselection_glyph\":{\"id\":\"03f8f9f7-81c6-4690-8313-a07dd1c51e8c\",\"type\":\"Ray\"},\"selection_glyph\":null},\"id\":\"c2520b18-20c4-46f9-86ca-26c23f4a5eac\",\"type\":\"GlyphRenderer\"},{\"attributes\":{\"plot\":null,\"text\":\"suma odchyle\\u0144 - odci\\u0119cie\"},\"id\":\"5809b05b-96b9-4d30-8ac1-1418e9b5c406\",\"type\":\"Title\"},{\"attributes\":{\"dimension\":1,\"plot\":{\"id\":\"e4684acd-5da3-4a0a-9624-cdb6ba83ed70\",\"subtype\":\"Figure\",\"type\":\"Plot\"},\"ticker\":{\"id\":\"7e7929d0-72ca-4310-a600-c41352119b73\",\"type\":\"BasicTicker\"}},\"id\":\"ab1723ec-413a-4a38-ba9b-224b19e60bef\",\"type\":\"Grid\"},{\"attributes\":{},\"id\":\"e0f3dd83-f771-4ab7-832c-1ab1e48ccfa6\",\"type\":\"BasicTickFormatter\"},{\"attributes\":{\"formatter\":{\"id\":\"ce19da32-4552-4162-88b1-c66a585d6f03\",\"type\":\"BasicTickFormatter\"},\"plot\":{\"id\":\"e4684acd-5da3-4a0a-9624-cdb6ba83ed70\",\"subtype\":\"Figure\",\"type\":\"Plot\"},\"ticker\":{\"id\":\"5a66878d-f001-4b23-b1dc-c21c4761e189\",\"type\":\"BasicTicker\"}},\"id\":\"17fd1574-ed65-4699-9805-763954896ef7\",\"type\":\"LinearAxis\"},{\"attributes\":{\"plot\":{\"id\":\"e4684acd-5da3-4a0a-9624-cdb6ba83ed70\",\"subtype\":\"Figure\",\"type\":\"Plot\"}},\"id\":\"039eb7cc-53ac-4f95-86d7-89f3c4675e26\",\"type\":\"PanTool\"},{\"attributes\":{\"plot\":{\"id\":\"e4684acd-5da3-4a0a-9624-cdb6ba83ed70\",\"subtype\":\"Figure\",\"type\":\"Plot\"},\"ticker\":{\"id\":\"5a66878d-f001-4b23-b1dc-c21c4761e189\",\"type\":\"BasicTicker\"}},\"id\":\"dc6c7c11-a35a-47f0-9609-4ac9342dbd3f\",\"type\":\"Grid\"},{\"attributes\":{\"callback\":null},\"id\":\"6f560bf8-307a-469c-91e9-fd2b7375b2e8\",\"type\":\"DataRange1d\"},{\"attributes\":{\"line_color\":{\"value\":\"#1f77b4\"}},\"id\":\"418f37b5-f2ab-4ae4-a584-1c0f75d01e35\",\"type\":\"Line\"},{\"attributes\":{\"callback\":null,\"column_names\":[\"x\",\"y\"],\"data\":{\"x\":[0,1,2,3,4,5,6,7,8,9,10,11,12,13,14,15,16,17,18,19,20,21,22,23,24,25,26,27,28,29,30,31,32,33,34,35,36,37,38,39,40,41,42,43,44,45,46,47,48,49,50,51,52,53,54,55,56,57,58,59,60,61,62,63,64,65,66,67,68,69,70,71,72,73,74,75,76,77,78,79,80,81,82,83,84,85,86,87,88,89,90,91,92,93,94,95,96,97,98,99,100,101,102,103,104,105,106,107,108,109,110,111,112,113,114,115,116,117,118,119,120,121,122,123,124,125,126,127,128,129,130,131,132,133,134,135,136,137,138,139,140,141,142,143,144,145,146,147,148,149,150,151,152,153,154,155,156,157,158,159,160,161,162,163,164,165,166,167,168,169,170,171,172,173,174,175,176,177,178,179,180,181,182,183,184,185,186,187,188,189,190,191,192,193,194,195,196,197,198,199,200,201,202,203,204,205,206,207,208,209,210,211,212,213,214,215,216,217,218,219,220,221,222,223,224,225,226,227,228,229,230,231,232,233,234,235,236,237,238,239,240,241,242,243],\"y\":[485.97979797979804,520.7272727272726,537.3131313131312,541.939393939394,552.10101010101,560.1010101010102,563.9595959595958,565.4141414141413,579.4747474747476,589.1919191919193,591.3535353535352,596.2626262626261,604.8484848484848,610.5050505050505,611.4343434343434,612.3636363636363,614.9696969696969,615.1717171717172,624.3636363636361,628.7676767676769,638.8080808080808,643.7777777777778,649.3535353535354,649.3939393939393,652.2424242424244,653.7777777777774,656.2626262626263,658.7474747474747,659.7373737373736,661.2121212121211,661.5151515151514,662.8282828282826,664.4848484848485,668.9494949494948,669.5353535353536,672.0202020202019,673.333333333333,676.989898989899,677.9595959595961,689.1515151515154,689.5757575757577,689.7171717171717,691.4141414141413,693.6767676767679,696.10101010101,696.4242424242423,697.7777777777779,705.0101010101012,713.4545454545455,717.8181818181819,725.4545454545454,726.2424242424242,726.4242424242425,727.050505050505,727.3939393939393,732.4444444444445,732.7676767676768,733.2323232323236,734.0404040404039,735.2727272727275,736.4444444444442,737.7777777777777,740.2020202020203,740.9090909090908,742.8080808080808,751.7575757575754,752.5252525252525,753.9595959595958,754.5454545454546,756.1414141414142,757.1313131313132,757.8787878787879,759.5353535353534,761.7979797979797,762.2020202020201,764.4848484848485,774.3030303030303,775.5959595959596,775.8787878787878,777.6363636363636,780.8686868686868,783.3737373737374,784.2828282828283,785.7171717171718,791.090909090909,793.0505050505051,793.6767676767677,795.3333333333336,799.070707070707,799.3535353535353,803.1717171717172,808.5656565656567,808.989898989899,813.5555555555558,814.4848484848484,818.3030303030304,820.7070707070709,821.6969696969697,823.3131313131314,828.6262626262628,829.9595959595962,830.6666666666663,831.9191919191924,836.9898989898992,838.6060606060607,840.8282828282828,841.2525252525252,841.3939393939395,841.4747474747476,842.5454545454544,844.1616161616162,845.030303030303,846.0606060606058,847.2727272727273,847.7777777777779,848.2626262626264,848.4444444444445,849.1919191919189,853.1111111111111,854.1414141414143,854.6262626262626,864.3030303030305,864.969696969697,865.3939393939395,872.868686868687,873.030303030303,874.3030303030303,877.5757575757575,879.3131313131314,880.1010101010102,883.3939393939396,885.4747474747476,885.5959595959596,885.8181818181816,887.5757575757576,888.8282828282826,890.929292929293,895.3333333333333,900.8484848484849,900.8686868686867,901.1919191919193,901.2323232323232,901.3939393939394,904.2424242424242,907.1313131313134,908.3434343434345,910.9292929292928,915.3333333333335,920.1616161616163,923.070707070707,925.3333333333334,927.4545454545456,930.9898989898988,931.5757575757573,932.2020202020203,936.3030303030303,937.9393939393938,940.5858585858585,940.9494949494949,940.9494949494949,952.2626262626263,952.4242424242425,952.969696969697,955.5555555555555,959.9191919191917,960.6464646464647,961.2929292929294,962.3838383838386,962.6868686868686,964.323232323232,964.5454545454546,964.9696969696972,966.3838383838383,967.3939393939395,978.3636363636363,978.5050505050503,979.0303030303028,981.8989898989902,985.7373737373739,991.0303030303028,993.9393939393939,995.6767676767678,1005.3131313131314,1006.2424242424242,1006.8484848484848,1009.4141414141417,1014.5050505050507,1015.050505050505,1016.3232323232323,1022.7474747474746,1024.646464646465,1028.5050505050503,1035.090909090909,1035.3131313131312,1035.6565656565656,1036.5050505050503,1037.212121212121,1040.0202020202019,1043.2727272727275,1049.4141414141416,1061.2121212121212,1063.4343434343434,1065.5353535353538,1067.6969696969697,1070.4444444444443,1071.5555555555557,1075.8787878787875,1078.4646464646464,1086.383838383838,1101.9595959595958,1119.3333333333333,1120.0404040404042,1120.969696969697,1131.3939393939393,1142.262626262626,1145.1313131313132,1150.5050505050506,1152.4242424242423,1170.20202020202,1203.4545454545455,1203.4545454545457,1209.9595959595958,1213.090909090909,1214.9494949494947,1215.4949494949497,1222.1818181818185,1245.4141414141413,1261.6969696969697,1261.7373737373734,1301.757575757576,1315.4949494949499,1327.4747474747473,1363.3333333333335,1387.9393939393942,1399.878787878788,1457.5959595959594,1515.8585858585864,1558.0808080808079,1580.4444444444443,1599.0505050505053,1659.878787878788,1672.2424242424238,1924.7070707070707,2763.5151515151515]}},\"id\":\"ae09ecf0-8827-44d8-9a01-06e4ea8433e8\",\"type\":\"ColumnDataSource\"},{\"attributes\":{},\"id\":\"5a66878d-f001-4b23-b1dc-c21c4761e189\",\"type\":\"BasicTicker\"},{\"attributes\":{\"below\":[{\"id\":\"17fd1574-ed65-4699-9805-763954896ef7\",\"type\":\"LinearAxis\"}],\"left\":[{\"id\":\"e01af265-d123-4067-98a0-a7a2baf8833c\",\"type\":\"LinearAxis\"}],\"renderers\":[{\"id\":\"17fd1574-ed65-4699-9805-763954896ef7\",\"type\":\"LinearAxis\"},{\"id\":\"dc6c7c11-a35a-47f0-9609-4ac9342dbd3f\",\"type\":\"Grid\"},{\"id\":\"e01af265-d123-4067-98a0-a7a2baf8833c\",\"type\":\"LinearAxis\"},{\"id\":\"ab1723ec-413a-4a38-ba9b-224b19e60bef\",\"type\":\"Grid\"},{\"id\":\"6721143c-41e1-42e1-919f-1f8364bd6296\",\"type\":\"BoxAnnotation\"},{\"id\":\"4796b3bc-dc86-4b42-b55d-acdc6d968888\",\"type\":\"GlyphRenderer\"},{\"id\":\"c2520b18-20c4-46f9-86ca-26c23f4a5eac\",\"type\":\"GlyphRenderer\"},{\"id\":\"87192f03-2522-472d-9870-e1190f045bf6\",\"type\":\"GlyphRenderer\"}],\"title\":{\"id\":\"5809b05b-96b9-4d30-8ac1-1418e9b5c406\",\"type\":\"Title\"},\"tool_events\":{\"id\":\"6b3842e9-c96a-42d2-8a0f-bf537cc5383e\",\"type\":\"ToolEvents\"},\"toolbar\":{\"id\":\"c7004374-2693-4940-815b-edaf4ec88f44\",\"type\":\"Toolbar\"},\"x_range\":{\"id\":\"6f560bf8-307a-469c-91e9-fd2b7375b2e8\",\"type\":\"DataRange1d\"},\"y_range\":{\"id\":\"0e5d3db7-08b3-478a-9788-d2d6b36d9ba5\",\"type\":\"DataRange1d\"}},\"id\":\"e4684acd-5da3-4a0a-9624-cdb6ba83ed70\",\"subtype\":\"Figure\",\"type\":\"Plot\"},{\"attributes\":{\"data_source\":{\"id\":\"87621265-761b-46af-a9a9-44291dae97f4\",\"type\":\"ColumnDataSource\"},\"glyph\":{\"id\":\"418f37b5-f2ab-4ae4-a584-1c0f75d01e35\",\"type\":\"Line\"},\"hover_glyph\":null,\"nonselection_glyph\":{\"id\":\"fd3ecf8a-a92c-4386-a336-84d47ad93aef\",\"type\":\"Line\"},\"selection_glyph\":null},\"id\":\"87192f03-2522-472d-9870-e1190f045bf6\",\"type\":\"GlyphRenderer\"},{\"attributes\":{\"plot\":{\"id\":\"e4684acd-5da3-4a0a-9624-cdb6ba83ed70\",\"subtype\":\"Figure\",\"type\":\"Plot\"}},\"id\":\"77ed1562-9838-45f2-a44a-0ba3b2e59b22\",\"type\":\"SaveTool\"},{\"attributes\":{\"callback\":null,\"column_names\":[\"x\",\"y\"],\"data\":{\"x\":[236],\"y\":[0]}},\"id\":\"a2f1d26b-404f-4b6a-9d1c-9d5afbfec216\",\"type\":\"ColumnDataSource\"},{\"attributes\":{},\"id\":\"6b3842e9-c96a-42d2-8a0f-bf537cc5383e\",\"type\":\"ToolEvents\"},{\"attributes\":{\"active_drag\":\"auto\",\"active_scroll\":\"auto\",\"active_tap\":\"auto\",\"tools\":[{\"id\":\"039eb7cc-53ac-4f95-86d7-89f3c4675e26\",\"type\":\"PanTool\"},{\"id\":\"f7a24edc-f7d6-49ea-8c73-91383391b381\",\"type\":\"WheelZoomTool\"},{\"id\":\"139edc07-d3d5-4c22-9eb0-fa6c9f096112\",\"type\":\"BoxZoomTool\"},{\"id\":\"77ed1562-9838-45f2-a44a-0ba3b2e59b22\",\"type\":\"SaveTool\"},{\"id\":\"4cdeba2a-753d-4c68-a6e1-725b324ea308\",\"type\":\"ResetTool\"},{\"id\":\"193931a2-328b-43f2-a7fb-78e4fcd9b7e7\",\"type\":\"HelpTool\"}]},\"id\":\"c7004374-2693-4940-815b-edaf4ec88f44\",\"type\":\"Toolbar\"},{\"attributes\":{\"angle\":{\"units\":\"rad\",\"value\":1.5707963267948966},\"length\":{\"units\":\"data\",\"value\":0},\"line_alpha\":{\"value\":0.1},\"line_color\":{\"value\":\"#1f77b4\"},\"x\":{\"field\":\"x\"},\"y\":{\"field\":\"y\"}},\"id\":\"03f8f9f7-81c6-4690-8313-a07dd1c51e8c\",\"type\":\"Ray\"},{\"attributes\":{\"plot\":{\"id\":\"e4684acd-5da3-4a0a-9624-cdb6ba83ed70\",\"subtype\":\"Figure\",\"type\":\"Plot\"}},\"id\":\"193931a2-328b-43f2-a7fb-78e4fcd9b7e7\",\"type\":\"HelpTool\"},{\"attributes\":{\"plot\":{\"id\":\"e4684acd-5da3-4a0a-9624-cdb6ba83ed70\",\"subtype\":\"Figure\",\"type\":\"Plot\"}},\"id\":\"f7a24edc-f7d6-49ea-8c73-91383391b381\",\"type\":\"WheelZoomTool\"},{\"attributes\":{\"angle\":{\"units\":\"rad\",\"value\":1.5707963267948966},\"length\":{\"units\":\"data\",\"value\":0},\"line_color\":{\"value\":\"red\"},\"x\":{\"field\":\"x\"},\"y\":{\"field\":\"y\"}},\"id\":\"d7ed7630-1b3d-4d22-a043-0d5d3592e961\",\"type\":\"Ray\"},{\"attributes\":{\"overlay\":{\"id\":\"6721143c-41e1-42e1-919f-1f8364bd6296\",\"type\":\"BoxAnnotation\"},\"plot\":{\"id\":\"e4684acd-5da3-4a0a-9624-cdb6ba83ed70\",\"subtype\":\"Figure\",\"type\":\"Plot\"}},\"id\":\"139edc07-d3d5-4c22-9eb0-fa6c9f096112\",\"type\":\"BoxZoomTool\"},{\"attributes\":{\"callback\":null},\"id\":\"0e5d3db7-08b3-478a-9788-d2d6b36d9ba5\",\"type\":\"DataRange1d\"},{\"attributes\":{\"data_source\":{\"id\":\"ae09ecf0-8827-44d8-9a01-06e4ea8433e8\",\"type\":\"ColumnDataSource\"},\"glyph\":{\"id\":\"a547804d-9d05-47cd-9e39-f636fd8859d7\",\"type\":\"Line\"},\"hover_glyph\":null,\"nonselection_glyph\":{\"id\":\"5e5f5283-7897-45f1-b13b-d5f342f55fbc\",\"type\":\"Line\"},\"selection_glyph\":null},\"id\":\"4796b3bc-dc86-4b42-b55d-acdc6d968888\",\"type\":\"GlyphRenderer\"},{\"attributes\":{\"line_alpha\":{\"value\":0.1},\"line_color\":{\"value\":\"#1f77b4\"},\"x\":{\"field\":\"x\"},\"y\":{\"field\":\"y\"}},\"id\":\"5e5f5283-7897-45f1-b13b-d5f342f55fbc\",\"type\":\"Line\"},{\"attributes\":{\"callback\":null},\"id\":\"87621265-761b-46af-a9a9-44291dae97f4\",\"type\":\"ColumnDataSource\"},{\"attributes\":{\"plot\":{\"id\":\"e4684acd-5da3-4a0a-9624-cdb6ba83ed70\",\"subtype\":\"Figure\",\"type\":\"Plot\"}},\"id\":\"4cdeba2a-753d-4c68-a6e1-725b324ea308\",\"type\":\"ResetTool\"},{\"attributes\":{\"line_alpha\":{\"value\":0.1},\"line_color\":{\"value\":\"#1f77b4\"}},\"id\":\"fd3ecf8a-a92c-4386-a336-84d47ad93aef\",\"type\":\"Line\"},{\"attributes\":{},\"id\":\"7e7929d0-72ca-4310-a600-c41352119b73\",\"type\":\"BasicTicker\"},{\"attributes\":{\"line_color\":{\"value\":\"#1f77b4\"},\"x\":{\"field\":\"x\"},\"y\":{\"field\":\"y\"}},\"id\":\"a547804d-9d05-47cd-9e39-f636fd8859d7\",\"type\":\"Line\"},{\"attributes\":{\"bottom_units\":\"screen\",\"fill_alpha\":{\"value\":0.5},\"fill_color\":{\"value\":\"lightgrey\"},\"left_units\":\"screen\",\"level\":\"overlay\",\"line_alpha\":{\"value\":1.0},\"line_color\":{\"value\":\"black\"},\"line_dash\":[4,4],\"line_width\":{\"value\":2},\"plot\":null,\"render_mode\":\"css\",\"right_units\":\"screen\",\"top_units\":\"screen\"},\"id\":\"6721143c-41e1-42e1-919f-1f8364bd6296\",\"type\":\"BoxAnnotation\"}],\"root_ids\":[\"e4684acd-5da3-4a0a-9624-cdb6ba83ed70\"]},\"title\":\"Bokeh Application\",\"version\":\"0.12.1\"}};\n",
       "            var render_items = [{\"docid\":\"c5085ab6-aba2-40b4-870f-a9de386996a8\",\"elementid\":\"695dfb76-e771-4f7f-919c-bbf60506a1f2\",\"modelid\":\"e4684acd-5da3-4a0a-9624-cdb6ba83ed70\",\"notebook_comms_target\":\"1cacf445-f473-48ae-9f1e-07bc963b8f35\"}];\n",
       "            \n",
       "            Bokeh.embed.embed_items(docs_json, render_items);\n",
       "        });\n",
       "      },\n",
       "      function(Bokeh) {\n",
       "      }\n",
       "    ];\n",
       "  \n",
       "    function run_inline_js() {\n",
       "      for (var i = 0; i < inline_js.length; i++) {\n",
       "        inline_js[i](window.Bokeh);\n",
       "      }\n",
       "    }\n",
       "  \n",
       "    if (window._bokeh_is_loading === 0) {\n",
       "      console.log(\"Bokeh: BokehJS loaded, going straight to plotting\");\n",
       "      run_inline_js();\n",
       "    } else {\n",
       "      load_libs(js_urls, function() {\n",
       "        console.log(\"Bokeh: BokehJS plotting callback run at\", now());\n",
       "        run_inline_js();\n",
       "      });\n",
       "    }\n",
       "  }(this));\n",
       "</script>"
      ]
     },
     "metadata": {},
     "output_type": "display_data"
    },
    {
     "data": {
      "text/html": [
       "<p><code>&lt;Bokeh Notebook handle for <strong>In[4]</strong>&gt;</code></p>"
      ],
      "text/plain": [
       "<bokeh.io._CommsHandle at 0x11acb3f28>"
      ]
     },
     "execution_count": 4,
     "metadata": {},
     "output_type": "execute_result"
    }
   ],
   "source": [
    "#wykres odcięcia danych, tylko trzeba pilnować, żeby df_dev to były wszystkie razem z usuniętymi\n",
    "df_dev_stare = df_dev\n",
    "df_dev = df_dev_stare\n",
    "df_dev_len = len(df_dev_stare)\n",
    "f=figure(title=\"suma odchyleń - odcięcie\")\n",
    "df_dev = df_dev.sort_values(by='sum_dev')\n",
    "\n",
    "\n",
    "\n",
    "f.line([x for x in range(df_dev_len)], df_dev['sum_dev'])\n",
    "# f.line([x for x in range(len(df_dev))], df_dev['sum_sdev'])\n",
    "f.ray(x=[236], y=[0], length=0, angle=np.pi/2, line_width=1, color='red')\n",
    "f.line()\n",
    "show(f)"
   ]
  },
  {
   "cell_type": "code",
   "execution_count": null,
   "metadata": {
    "collapsed": false
   },
   "outputs": [],
   "source": [
    "#wyszukiwanie wartości przekraczającej MAX do wykresów z odcięciem\n",
    "MAX = 1500\n",
    "df_dev['sum_dev'].values\n",
    "\n",
    "val = 0\n",
    "for v in reversed(df_dev['sum_dev'].values):\n",
    "    if(v<MAX):\n",
    "        val = v\n",
    "        break\n",
    "    val = v\n",
    "# df_def[]\n",
    "    "
   ]
  },
  {
   "cell_type": "code",
   "execution_count": null,
   "metadata": {
    "collapsed": false,
    "scrolled": true
   },
   "outputs": [],
   "source": [
    "df_dev = df_dev.sort_values(by='sum_dev')"
   ]
  },
  {
   "cell_type": "code",
   "execution_count": null,
   "metadata": {
    "collapsed": false
   },
   "outputs": [],
   "source": [
    "# na razie niczego nie przedstawia\n",
    "f2 = figure(title=\"odcięcie danych\")\n",
    "f2.line(range(6), [1,2,4,6,7,6])\n",
    "# f2.rect(width=4, leng color='red')\n",
    "f2.line(x=[2,5], y=[3,2], color='red')\n",
    "# f2.ray(x=[0], y=[0], length=0, angle=0, line_width=1)\n",
    "f2.ray(x=[0], y=[0], length=0, angle=np.pi/2, line_width=1)\n",
    "show(f2)"
   ]
  },
  {
   "cell_type": "code",
   "execution_count": null,
   "metadata": {
    "collapsed": false,
    "scrolled": true
   },
   "outputs": [],
   "source": [
    "#wykres średnich odpowiedzi i +/- 1 SD\n",
    "f = figure()\n",
    "f.line(d['stimulus'], d['mean'])\n",
    "f.line([1,200], [1,200])\n",
    "f.line(d['stimulus'], d['mean']+d['SD'])\n",
    "f.line(d['stimulus'], d['mean']-d['SD'])\n",
    "show(f)"
   ]
  },
  {
   "cell_type": "code",
   "execution_count": null,
   "metadata": {
    "collapsed": false
   },
   "outputs": [],
   "source": [
    "sdpatch = [[],[]]\n",
    "d2 = d\n",
    "d2 = d2.reset_index()\n",
    "l = len(d)\n",
    "for i in range(l):\n",
    "    sdpatch[0].append(d2['stimulus'][i])\n",
    "    sdpatch[1].append(d2['mean'][i] + d2['SD'][i])\n",
    "    \n",
    "for i in range(l):\n",
    "    sdpatch[0].append(d2['stimulus'][l-1-i])\n",
    "    sdpatch[1].append(d2['mean'][l-1-i] - d2['SD'][l-1-i])\n",
    "    \n",
    "sdpatch\n",
    "    "
   ]
  },
  {
   "cell_type": "code",
   "execution_count": null,
   "metadata": {
    "collapsed": false,
    "scrolled": false
   },
   "outputs": [],
   "source": [
    "#wykres punktowy odpowiedzi i średnia odpowiedzi na czerwono // widać, że jest trochę lepiej niż było!\n",
    "from bokeh.charts import Scatter, show\n",
    "p = figure()\n",
    "for dd in data:\n",
    "    p.scatter(x=dd['stimulus'], y=dd['converted'], color=\"navy\", size=6, alpha=0.3)\n",
    "\n",
    "p.line(d['stimulus'], d['mean'], line_width=3, color=\"red\")\n",
    "p \n",
    "p.patch(sdpatch[0], sdpatch[1], alpha=0.5, line_width=1, color=\"red\")\n",
    "show(p)"
   ]
  },
  {
   "cell_type": "code",
   "execution_count": null,
   "metadata": {
    "collapsed": false,
    "scrolled": true
   },
   "outputs": [],
   "source": [
    "#wykres krzywych odpowiedzi poszczególnych osób, niestety nieczytelny\n",
    "p3 = figure()\n",
    "for dddd in data:\n",
    "    dddd = dddd.sort_values(by='stimulus').reset_index()\n",
    "    p3.line(x=dddd['stimulus'], y=dddd['converted'], color=\"navy\", alpha=0.1, line_width=3)\n",
    "\n",
    "\n",
    "p3.line(d['stimulus'], d['mean'], line_width=3, color=\"red\")\n",
    "# p \n",
    "# p.patch(sdpatch[0], sdpatch[1], alpha=0.5, line_width=1, color=\"red\")\n",
    "show(p3)"
   ]
  },
  {
   "cell_type": "code",
   "execution_count": null,
   "metadata": {
    "collapsed": false,
    "scrolled": true
   },
   "outputs": [],
   "source": [
    "p2 = figure()\n",
    "i = 0\n",
    "data2 = data\n",
    "for  dd in data2:\n",
    "    dd = dd.sort_values(by='stimulus').reset_index()\n",
    "for dd in data2:\n",
    "    if i < 1:\n",
    "        p2.line(x=dd['stimulus'], y=dd['converted'], color=\"navy\", alpha=0.3)\n",
    "    i += 1\n",
    "\n",
    "p2.line(d['stimulus'], d['mean'], line_width=3, color=\"red\")\n",
    "# p \n",
    "# p.patch(sdpatch[0], sdpatch[1], alpha=0.5, line_width=1, color=\"red\")\n",
    "show(p2)"
   ]
  },
  {
   "cell_type": "code",
   "execution_count": null,
   "metadata": {
    "collapsed": false,
    "scrolled": false
   },
   "outputs": [],
   "source": [
    "from sklearn import linear_model\n",
    "from bokeh.charts import Scatter, show\n",
    "c = figure()\n",
    "c.scatter(x=df_perc['stimulus'], y=df_perc['percentage'], color=\"navy\", size=6, alpha=0.3)\n",
    "# for i in range(len(df_perc)):\n",
    "# c.scatter(x=df_perc['stimulus'], y=df_perc['converted'], color=\"navy\", size=6, alpha=0.3)\n",
    "# for dd in data:\n",
    "#     p.scatter(x=dd['stimulus'], y=dd['converted'], color=\"navy\", size=6, alpha=0.3)\n",
    "\n",
    "c.line(df_perc['stimulus'], df_perc['percentage'], line_width=3, color=\"red\")\n",
    "# p \n",
    "# p.patch(sdpatch[0], sdpatch[1], alpha=0.5, line_width=1, color=\"red\")\n",
    "show(c)\n",
    "print(\"korelacja: \", df_perc.corr())"
   ]
  }
 ],
 "metadata": {
  "kernelspec": {
   "display_name": "Python 3",
   "language": "python",
   "name": "python3"
  },
  "language_info": {
   "codemirror_mode": {
    "name": "ipython",
    "version": 3
   },
   "file_extension": ".py",
   "mimetype": "text/x-python",
   "name": "python",
   "nbconvert_exporter": "python",
   "pygments_lexer": "ipython3",
   "version": "3.5.2"
  }
 },
 "nbformat": 4,
 "nbformat_minor": 0
}

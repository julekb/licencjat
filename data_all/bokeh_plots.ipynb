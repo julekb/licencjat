{
 "cells": [
  {
   "cell_type": "code",
   "execution_count": 1,
   "metadata": {
    "collapsed": false
   },
   "outputs": [
    {
     "data": {
      "text/html": [
       "\n",
       "    <div class=\"bk-root\">\n",
       "        <a href=\"http://bokeh.pydata.org\" target=\"_blank\" class=\"bk-logo bk-logo-small bk-logo-notebook\"></a>\n",
       "        <span id=\"b100cbda-28c0-4d22-a5e4-fd1e31055cf2\">Loading BokehJS ...</span>\n",
       "    </div>"
      ]
     },
     "metadata": {},
     "output_type": "display_data"
    },
    {
     "data": {
      "application/javascript": [
       "\n",
       "(function(global) {\n",
       "  function now() {\n",
       "    return new Date();\n",
       "  }\n",
       "\n",
       "  var force = \"1\";\n",
       "\n",
       "  if (typeof (window._bokeh_onload_callbacks) === \"undefined\" || force !== \"\") {\n",
       "    window._bokeh_onload_callbacks = [];\n",
       "    window._bokeh_is_loading = undefined;\n",
       "  }\n",
       "\n",
       "  function run_callbacks() {\n",
       "    window._bokeh_onload_callbacks.forEach(function(callback) { callback() });\n",
       "    delete window._bokeh_onload_callbacks\n",
       "    console.info(\"Bokeh: all callbacks have finished\");\n",
       "  }\n",
       "\n",
       "  function load_libs(js_urls, callback) {\n",
       "    window._bokeh_onload_callbacks.push(callback);\n",
       "    if (window._bokeh_is_loading > 0) {\n",
       "      console.log(\"Bokeh: BokehJS is being loaded, scheduling callback at\", now());\n",
       "      return null;\n",
       "    }\n",
       "    if (js_urls == null || js_urls.length === 0) {\n",
       "      run_callbacks();\n",
       "      return null;\n",
       "    }\n",
       "    console.log(\"Bokeh: BokehJS not loaded, scheduling load and callback at\", now());\n",
       "    window._bokeh_is_loading = js_urls.length;\n",
       "    for (var i = 0; i < js_urls.length; i++) {\n",
       "      var url = js_urls[i];\n",
       "      var s = document.createElement('script');\n",
       "      s.src = url;\n",
       "      s.async = false;\n",
       "      s.onreadystatechange = s.onload = function() {\n",
       "        window._bokeh_is_loading--;\n",
       "        if (window._bokeh_is_loading === 0) {\n",
       "          console.log(\"Bokeh: all BokehJS libraries loaded\");\n",
       "          run_callbacks()\n",
       "        }\n",
       "      };\n",
       "      s.onerror = function() {\n",
       "        console.warn(\"failed to load library \" + url);\n",
       "      };\n",
       "      console.log(\"Bokeh: injecting script tag for BokehJS library: \", url);\n",
       "      document.getElementsByTagName(\"head\")[0].appendChild(s);\n",
       "    }\n",
       "  };\n",
       "\n",
       "  var js_urls = ['https://cdn.pydata.org/bokeh/release/bokeh-0.12.1.min.js', 'https://cdn.pydata.org/bokeh/release/bokeh-widgets-0.12.1.min.js', 'https://cdn.pydata.org/bokeh/release/bokeh-compiler-0.12.1.min.js'];\n",
       "\n",
       "  var inline_js = [\n",
       "    function(Bokeh) {\n",
       "      Bokeh.set_log_level(\"info\");\n",
       "    },\n",
       "    \n",
       "    function(Bokeh) {\n",
       "      \n",
       "      Bokeh.$(\"#b100cbda-28c0-4d22-a5e4-fd1e31055cf2\").text(\"BokehJS successfully loaded\");\n",
       "      var kernel = Jupyter.notebook.kernel\n",
       "      if (kernel.execute !== undefined) {\n",
       "          kernel.execute(\"import bokeh.io; bokeh.io._nb_loaded = True\");\n",
       "      }\n",
       "    },\n",
       "    function(Bokeh) {\n",
       "      console.log(\"Bokeh: injecting CSS: https://cdn.pydata.org/bokeh/release/bokeh-0.12.1.min.css\");\n",
       "      Bokeh.embed.inject_css(\"https://cdn.pydata.org/bokeh/release/bokeh-0.12.1.min.css\");\n",
       "      console.log(\"Bokeh: injecting CSS: https://cdn.pydata.org/bokeh/release/bokeh-widgets-0.12.1.min.css\");\n",
       "      Bokeh.embed.inject_css(\"https://cdn.pydata.org/bokeh/release/bokeh-widgets-0.12.1.min.css\");\n",
       "    }\n",
       "  ];\n",
       "\n",
       "  function run_inline_js() {\n",
       "    for (var i = 0; i < inline_js.length; i++) {\n",
       "      inline_js[i](window.Bokeh);\n",
       "    }\n",
       "  }\n",
       "\n",
       "  if (window._bokeh_is_loading === 0) {\n",
       "    console.log(\"Bokeh: BokehJS loaded, going straight to plotting\");\n",
       "    run_inline_js();\n",
       "  } else {\n",
       "    load_libs(js_urls, function() {\n",
       "      console.log(\"Bokeh: BokehJS plotting callback run at\", now());\n",
       "      run_inline_js();\n",
       "    });\n",
       "  }\n",
       "}(this));"
      ]
     },
     "metadata": {},
     "output_type": "display_data"
    },
    {
     "data": {
      "text/plain": [
       "'\\nimport glob\\nfilenames = glob.glob(\"badanie1*.csv\")\\ndata = []\\nfor name in filenames:\\n\\tdata.append(gd.GetData(name))\\n    \\nd = data\\nfor dd in d:\\n    dd = dd.sort_values(by=\\'stimulus\\')\\n\\ndf_dev = gd.VarDev()\\ndf_dev_len = df_dev.count()[1]\\n'"
      ]
     },
     "execution_count": 1,
     "metadata": {},
     "output_type": "execute_result"
    }
   ],
   "source": [
    "import pickle as pkl\n",
    "from bokeh.plotting import figure, show, output_notebook\n",
    "import numpy as np\n",
    "output_notebook()\n",
    "\n",
    "\n",
    "# uploading data from folder pkl_data\n",
    "path = '../data_final/'\n",
    "\n",
    "with open(path+'avg_data.pkl', 'rb') as f:\n",
    "\tavg_data = pkl.load(f)\n",
    "with open(path+'data_all.pkl', 'rb') as f:\n",
    "\tdata_all = pkl.load(f)\n",
    "\n",
    "\"\"\"\n",
    "import glob\n",
    "filenames = glob.glob(\"badanie1*.csv\")\n",
    "data = []\n",
    "for name in filenames:\n",
    "\tdata.append(gd.GetData(name))\n",
    "    \n",
    "d = data\n",
    "for dd in d:\n",
    "    dd = dd.sort_values(by='stimulus')\n",
    "\n",
    "df_dev = gd.VarDev()\n",
    "df_dev_len = df_dev.count()[1]\n",
    "\"\"\"\n"
   ]
  },
  {
   "cell_type": "code",
   "execution_count": null,
   "metadata": {
    "collapsed": false,
    "scrolled": false
   },
   "outputs": [],
   "source": [
    "#wykres odcięcia danych, tylko trzeba pilnować, żeby df_dev to były wszystkie razem z usuniętymi\n",
    "df_dev_stare = df_dev\n",
    "df_dev = df_dev_stare\n",
    "df_dev_len = len(df_dev_stare)\n",
    "f=figure(title=\"suma odchyleń - odcięcie\")\n",
    "df_dev = df_dev.sort_values(by='sum_dev')\n",
    "\n",
    "\n",
    "\n",
    "f.line([x for x in range(df_dev_len)], df_dev['sum_dev'])\n",
    "# f.line([x for x in range(len(df_dev))], df_dev['sum_sdev'])\n",
    "f.ray(x=[236], y=[0], length=0, angle=np.pi/2, line_width=1, color='red')\n",
    "f.line()\n",
    "show(f)"
   ]
  },
  {
   "cell_type": "code",
   "execution_count": null,
   "metadata": {
    "collapsed": false
   },
   "outputs": [],
   "source": [
    "#wyszukiwanie wartości przekraczającej MAX do wykresów z odcięciem\n",
    "MAX = 1500\n",
    "df_dev['sum_dev'].values\n",
    "\n",
    "val = 0\n",
    "for v in reversed(df_dev['sum_dev'].values):\n",
    "    if(v<MAX):\n",
    "        val = v\n",
    "        break\n",
    "    val = v\n",
    "# df_def[]\n",
    "    "
   ]
  },
  {
   "cell_type": "code",
   "execution_count": null,
   "metadata": {
    "collapsed": false,
    "scrolled": true
   },
   "outputs": [],
   "source": [
    "df_dev = df_dev.sort_values(by='sum_dev')"
   ]
  },
  {
   "cell_type": "code",
   "execution_count": null,
   "metadata": {
    "collapsed": false
   },
   "outputs": [],
   "source": [
    "# na razie niczego nie przedstawia\n",
    "f2 = figure(title=\"odcięcie danych\")\n",
    "f2.line(range(6), [1,2,4,6,7,6])\n",
    "# f2.rect(width=4, leng color='red')\n",
    "f2.line(x=[2,5], y=[3,2], color='red')\n",
    "# f2.ray(x=[0], y=[0], length=0, angle=0, line_width=1)\n",
    "f2.ray(x=[0], y=[0], length=0, angle=np.pi/2, line_width=1)\n",
    "show(f2)"
   ]
  },
  {
   "cell_type": "code",
   "execution_count": null,
   "metadata": {
    "collapsed": false,
    "scrolled": false
   },
   "outputs": [],
   "source": [
    "# LICENCJAT\n",
    "#wykres punktowy odpowiedzi i średnia odpowiedzi na czerwono\n",
    "\n",
    "sdpatch = [[],[]]\n",
    "d2 = avg_data\n",
    "d2 = d2.reset_index()\n",
    "l = len(avg_data)\n",
    "for i in range(l):\n",
    "    sdpatch[0].append(d2['stimulus'][i])\n",
    "    sdpatch[1].append(d2['mean'][i] + d2['SD'][i])\n",
    "    \n",
    "for i in range(l):\n",
    "    sdpatch[0].append(d2['stimulus'][l-1-i])\n",
    "    sdpatch[1].append(d2['mean'][l-1-i] - d2['SD'][l-1-i])\n",
    "    \n",
    "sdpatch\n",
    "\n",
    "from bokeh.charts import Scatter, show\n",
    "p = figure(title='Responses')\n",
    "p.xaxis.axis_label = 'Stimulus'\n",
    "p.yaxis.axis_label = 'Response'\n",
    "for dd in data_all:\n",
    "    p.scatter(x=dd['stimulus'], y=dd['converted'], color=\"navy\", size=6, alpha=0.3)\n",
    "\n",
    "p.line(avg_data['stimulus'], avg_data['mean'], line_width=3, color=\"red\")\n",
    "p \n",
    "p.patch(sdpatch[0], sdpatch[1], alpha=0.5, line_width=1, color=\"red\")\n",
    "show(p)"
   ]
  },
  {
   "cell_type": "code",
   "execution_count": null,
   "metadata": {
    "collapsed": false,
    "scrolled": true
   },
   "outputs": [],
   "source": [
    "#wykres krzywych odpowiedzi poszczególnych osób, niestety nieczytelny\n",
    "p3 = figure()\n",
    "for dddd in data:\n",
    "    dddd = dddd.sort_values(by='stimulus').reset_index()\n",
    "    p3.line(x=dddd['stimulus'], y=dddd['converted'], color=\"navy\", alpha=0.1, line_width=3)\n",
    "\n",
    "\n",
    "p3.line(d['stimulus'], d['mean'], line_width=3, color=\"red\")\n",
    "# p \n",
    "# p.patch(sdpatch[0], sdpatch[1], alpha=0.5, line_width=1, color=\"red\")\n",
    "show(p3)"
   ]
  },
  {
   "cell_type": "code",
   "execution_count": null,
   "metadata": {
    "collapsed": false,
    "scrolled": true
   },
   "outputs": [],
   "source": [
    "p2 = figure()\n",
    "i = 0\n",
    "data2 = data\n",
    "for  dd in data2:\n",
    "    dd = dd.sort_values(by='stimulus').reset_index()\n",
    "for dd in data2:\n",
    "    if i < 1:\n",
    "        p2.line(x=dd['stimulus'], y=dd['converted'], color=\"navy\", alpha=0.3)\n",
    "    i += 1\n",
    "\n",
    "p2.line(d['stimulus'], d['mean'], line_width=3, color=\"red\")\n",
    "# p \n",
    "# p.patch(sdpatch[0], sdpatch[1], alpha=0.5, line_width=1, color=\"red\")\n",
    "show(p2)"
   ]
  },
  {
   "cell_type": "code",
   "execution_count": null,
   "metadata": {
    "collapsed": false,
    "scrolled": false
   },
   "outputs": [],
   "source": [
    "from sklearn import linear_model\n",
    "from bokeh.charts import Scatter, show\n",
    "c = figure()\n",
    "c.scatter(x=df_perc['stimulus'], y=df_perc['percentage'], color=\"navy\", size=6, alpha=0.3)\n",
    "# for i in range(len(df_perc)):\n",
    "# c.scatter(x=df_perc['stimulus'], y=df_perc['converted'], color=\"navy\", size=6, alpha=0.3)\n",
    "# for dd in data:\n",
    "#     p.scatter(x=dd['stimulus'], y=dd['converted'], color=\"navy\", size=6, alpha=0.3)\n",
    "\n",
    "c.line(df_perc['stimulus'], df_perc['percentage'], line_width=3, color=\"red\")\n",
    "# p \n",
    "# p.patch(sdpatch[0], sdpatch[1], alpha=0.5, line_width=1, color=\"red\")\n",
    "show(c)\n",
    "print(\"korelacja: \", df_perc.corr())"
   ]
  }
 ],
 "metadata": {
  "kernelspec": {
   "display_name": "Python 3",
   "language": "python",
   "name": "python3"
  },
  "language_info": {
   "codemirror_mode": {
    "name": "ipython",
    "version": 3
   },
   "file_extension": ".py",
   "mimetype": "text/x-python",
   "name": "python",
   "nbconvert_exporter": "python",
   "pygments_lexer": "ipython3",
   "version": "3.5.2"
  }
 },
 "nbformat": 4,
 "nbformat_minor": 0
}

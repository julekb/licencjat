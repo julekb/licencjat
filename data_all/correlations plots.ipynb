{
 "cells": [
  {
   "cell_type": "code",
   "execution_count": null,
   "metadata": {
    "collapsed": true
   },
   "outputs": [],
   "source": [
    "### import pandas as pd\n",
    "import numpy as np\n",
    "import getdata_script as gd\n",
    "import imp\n",
    "from sklearn import cross_validation, linear_model\n",
    "from bokeh.plotting import figure, show, output_notebook\n",
    "from bokeh.charts import Scatter, show\n",
    "output_notebook()\n",
    "\n",
    "# data - lista z df z danymi \n",
    "\n",
    "df_perc = gd.Correlation()\n",
    "\n",
    "import glob\n",
    "filenames = glob.glob(\"badanie1*.csv\")\n",
    "data = []\n",
    "for name in filenames:\n",
    "    temp = gd.GetData(name).sort_values(by='stimulus')\n",
    "    temp = temp.reset_index(drop=True)\n",
    "    temp['percentage'] = df_perc['percentage']\n",
    "    temp['percentage_log'] = np.log(temp['percentage'])\n",
    "    temp['converted_log'] = np.log(temp['converted'])\n",
    "    data.append(temp)\n",
    "    \n",
    "conv_data, perc_data = [], []\n",
    "for dd in data:\n",
    "    conv_data = conv_data + list(dd['converted'])#pewnie ładniej byłoby gdyby łączyć df, a nie listy\n",
    "    perc_data = perc_data + list(dd['percentage'])"
   ]
  },
  {
   "cell_type": "code",
   "execution_count": null,
   "metadata": {
    "collapsed": false
   },
   "outputs": [],
   "source": [
    "#regresja liniowa - wykres zaczernienie(liczba punktów)\n",
    "\n",
    "regr = np.polyfit(df_perc['stimulus'], df_perc['percentage'], 1)\n",
    "r_x, r_y = zip(*((i, i*regr[0] + regr[1]) for i in range(201)))\n",
    "\n",
    "f = figure(title=\"zaczernienie / liczba punktów\")\n",
    "f.scatter(x=df_perc['stimulus'], y=df_perc['percentage'], color=\"navy\")\n",
    "f.line(r_x, r_y, color=\"red\")\n",
    "show(f)\n",
    "\n",
    "print(\"korelacja: \", df_perc.corr())"
   ]
  },
  {
   "cell_type": "code",
   "execution_count": null,
   "metadata": {
    "collapsed": false
   },
   "outputs": [],
   "source": [
    "#regresja liniowa - wykres zaczernienie(odpowiedzi badanych)\n",
    "\n",
    "    \n",
    "regr2 = np.polyfit(conv_data, perc_data, 1)\n",
    "print(regr2)\n",
    "r_x2, r_y2 = zip(*((i, i*regr2[0] + regr2[1]) for i in range(208)))\n",
    "\n",
    "p = figure(title=\"zaczernienie / odpowiedzi\")\n",
    "for dd in data:\n",
    "    p.scatter(x=dd['converted'], y=dd['percentage'], color=\"navy\", size=6, alpha=0.3)\n",
    "p.line(r_x2, r_y2, line_width=1, color=\"red\")\n",
    "\n",
    "show(p)\n",
    "\n",
    "ddd = pd.DataFrame()\n",
    "ddd['converted'] = conv_data\n",
    "ddd['percentage'] = perc_data\n",
    "print(\"korelacja: \", ddd.corr())\n",
    "print('coef: ', regr2.coef_)\n",
    "# print(r_y2)"
   ]
  },
  {
   "cell_type": "code",
   "execution_count": null,
   "metadata": {
    "collapsed": false
   },
   "outputs": [],
   "source": [
    "# test do pickle\n",
    "import pickle as pkl\n",
    "path = \"\"\n",
    "with open(path+\"data_all.pkl\", 'rb') as f: #testowo mniejszy plik\n",
    "\tdata_all = pkl.load(f)"
   ]
  },
  {
   "cell_type": "code",
   "execution_count": null,
   "metadata": {
    "collapsed": false
   },
   "outputs": [],
   "source": [
    "# test do pickle\n",
    "\n",
    "#regresja liniowa - wykres zaczernienie(odpowiedzi badanych)\n",
    "\n",
    "    \n",
    "regr2 = np.polyfit(conv_data, perc_data, 1)\n",
    "print(regr2)\n",
    "r_x2, r_y2 = zip(*((i, i*regr2[0] + regr2[1]) for i in range(208)))\n",
    "\n",
    "p = figure(title=\"zaczernienie / odpowiedzi\")\n",
    "for dd in data_all:\n",
    "    p.scatter(x=dd['converted'], y=df_perc['percentage'], color=\"navy\", size=6, alpha=0.3)\n",
    "p.line(r_x2, r_y2, line_width=1, color=\"red\")\n",
    "\n",
    "show(p)\n",
    "\n",
    "ddd = pd.DataFrame()\n",
    "ddd['converted'] = conv_data\n",
    "ddd['percentage'] = perc_data\n",
    "print(\"korelacja: \", ddd.corr())\n",
    "print('coef: ', regr2.coef_)\n",
    "# print(r_y2)"
   ]
  },
  {
   "cell_type": "code",
   "execution_count": null,
   "metadata": {
    "collapsed": false
   },
   "outputs": [],
   "source": [
    "# LINEAR MODEL TEST!!!!\n",
    "#regresja liniowa - wykres zaczernienie(odpowiedzi badanych)\n",
    "\n",
    "conv_data, perc_data = [], []\n",
    "for dd in data:\n",
    "    conv_data = conv_data + list(dd['converted'])#pewnie ładniej byłoby gdyby łączyć df, a nie listy\n",
    "    perc_data = perc_data + list(dd['percentage'])\n",
    "conv_data = [[x] for x in conv_data]\n",
    "regr = linear_model.LinearRegression().fit(conv_data, perc_data)\n",
    "print(\"coef: \", regr.coef_)\n",
    "\n",
    "p = figure(title=\"zaczernienie / odpowiedzi\")\n",
    "for dd in data:\n",
    "    p.scatter(x=dd['converted'], y=dd['percentage'], color=\"navy\", size=6, alpha=0.3)\n",
    "p.line(r_x2, r_y2, line_width=1, color=\"red\")\n",
    "\n",
    "show(p)\n",
    "\n",
    "ddd = pd.DataFrame()\n",
    "ddd['converted'] = conv_data\n",
    "ddd['percentage'] = perc_data\n",
    "print(\"korelacja: \", ddd.corr())\n",
    "print('coef: ', regr.coef_, regr.residues_)\n",
    "# print(r_y2)"
   ]
  },
  {
   "cell_type": "code",
   "execution_count": null,
   "metadata": {
    "collapsed": false
   },
   "outputs": [],
   "source": [
    "#regresja liniowa - wykres zaczernienie(log(odpowiedzi badanych) )\n",
    "  \n",
    "regr2 = np.polyfit(conv_data, perc_data, 1)\n",
    "print(regr2)\n",
    "r_x2, r_y2 = zip(*((i+1, (i+1)*regr2[0] + regr2[1]) for i in range(6)))\n",
    "\n",
    "p = figure(title=\"zaczernienie / log(odpowiedzi)\")\n",
    "for dd in data:\n",
    "    p.scatter(x=dd['converted_log'], y=dd['percentage'], color=\"navy\", size=6, alpha=0.3)\n",
    "p.line(r_x2, r_y2, line_width=1, color=\"red\")\n",
    "\n",
    "show(p)\n",
    "\n",
    "ddd = pd.DataFrame()\n",
    "ddd['converted_log'] = conv_data\n",
    "ddd['percentage'] = perc_data\n",
    "print(\"korelacja: \", ddd.corr())\n",
    "print(r_y2)"
   ]
  }
 ],
 "metadata": {
  "kernelspec": {
   "display_name": "Python 3",
   "language": "python",
   "name": "python3"
  },
  "language_info": {
   "codemirror_mode": {
    "name": "ipython",
    "version": 3
   },
   "file_extension": ".py",
   "mimetype": "text/x-python",
   "name": "python",
   "nbconvert_exporter": "python",
   "pygments_lexer": "ipython3",
   "version": "3.5.2"
  }
 },
 "nbformat": 4,
 "nbformat_minor": 0
}

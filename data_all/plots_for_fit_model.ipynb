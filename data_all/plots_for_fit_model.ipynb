{
 "cells": [
  {
   "cell_type": "code",
   "execution_count": null,
   "metadata": {
    "collapsed": false
   },
   "outputs": [],
   "source": [
    "import pandas as pd\n",
    "import numpy as np\n",
    "import pickle as pkl\n",
    "\n",
    "from sklearn import linear_model\n",
    "from sklearn.metrics import mean_squared_error as mse\n",
    "\n",
    "from bokeh.plotting import figure, show, output_notebook\n",
    "from bokeh.charts import Scatter, show\n",
    "output_notebook()\n",
    "\n",
    "with open('dataframe.pkl', 'rb') as f:\n",
    "    df = pkl.load(f)\n",
    "    \n",
    "models = ['regr', 'regr_ey', 'regr_log', 'nb1NN', 'nb2NN', 'nb3NN']"
   ]
  },
  {
   "cell_type": "code",
   "execution_count": null,
   "metadata": {
    "collapsed": true
   },
   "outputs": [],
   "source": [
    "def plot_coef(model, title):\n",
    "# fun for plotting dataframe created by script fit_model.py\n",
    "# model - name of column in df\n",
    "    X = [x.intercept_ for x in df[model].values]\n",
    "    Y= [y.coef_[0] for y in df[model].values]\n",
    "    \n",
    "    f = figure(title=title)\n",
    "    f.scatter(x=X, y=Y, color='navy', size=6, alpha=.3)\n",
    "    show(f)\n",
    "    \n",
    "def mse_count(model):\n",
    "    X = [x*x for x in df[model+' d_A'].values]\n",
    "    Y = [y*y for y in df[model+' d_B'].values]\n",
    "    mse = 0\n",
    "    for (x,y) in zip(X,Y):\n",
    "        mse += np.sqrt(x*x + y*y)/2\n",
    "    return mse/len(X)"
   ]
  },
  {
   "cell_type": "code",
   "execution_count": null,
   "metadata": {
    "collapsed": false
   },
   "outputs": [],
   "source": [
    "for  model in df.columns[:6]:\n",
    "    plot_coef(model, 'intercept / coef '+model)"
   ]
  },
  {
   "cell_type": "code",
   "execution_count": null,
   "metadata": {
    "collapsed": false
   },
   "outputs": [],
   "source": [
    "for model in models:\n",
    "    print(model, ' mse ', mse_count(model))"
   ]
  }
 ],
 "metadata": {
  "kernelspec": {
   "display_name": "Python 3",
   "language": "python",
   "name": "python3"
  },
  "language_info": {
   "codemirror_mode": {
    "name": "ipython",
    "version": 3
   },
   "file_extension": ".py",
   "mimetype": "text/x-python",
   "name": "python",
   "nbconvert_exporter": "python",
   "pygments_lexer": "ipython3",
   "version": "3.5.2"
  }
 },
 "nbformat": 4,
 "nbformat_minor": 0
}

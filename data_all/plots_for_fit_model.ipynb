{
 "cells": [
  {
   "cell_type": "code",
   "execution_count": null,
   "metadata": {
    "collapsed": false
   },
   "outputs": [],
   "source": [
    "import pandas as pd\n",
    "import numpy as np\n",
    "import pickle as pkl\n",
    "\n",
    "from sklearn import linear_model\n",
    "\n",
    "from bokeh.plotting import figure, show, output_notebook\n",
    "from bokeh.charts import Scatter, show\n",
    "output_notebook()\n",
    "\n",
    "with open('dataframe.pkl', 'rb') as f:\n",
    "    df = pkl.load(f)\n",
    "    \n",
    "models = ['regr', 'regr_ey', 'regr_log', 'nb1NN', 'nb2NN', 'nb3NN']"
   ]
  },
  {
   "cell_type": "code",
   "execution_count": 1,
   "metadata": {
    "collapsed": false
   },
   "outputs": [
    {
     "ename": "SyntaxError",
     "evalue": "invalid syntax (<ipython-input-1-6768747e2c07>, line 34)",
     "output_type": "error",
     "traceback": [
      "\u001b[0;36m  File \u001b[0;32m\"<ipython-input-1-6768747e2c07>\"\u001b[0;36m, line \u001b[0;32m34\u001b[0m\n\u001b[0;31m    f.scatter(x=mse/n color='navy', size=6, alpha=.3)\u001b[0m\n\u001b[0m                          ^\u001b[0m\n\u001b[0;31mSyntaxError\u001b[0m\u001b[0;31m:\u001b[0m invalid syntax\n"
     ]
    }
   ],
   "source": [
    "def plot_coef(model, title):\n",
    "# fun for plotting dataframe created by script fit_model.py\n",
    "# but it's not working for k-NN models\n",
    "    X = [x.intercept_ for x in df[model+\" model A\"].values]\n",
    "    Y= [y.coef_[0] for y in df[model+\" model A\"].values]\n",
    "    \n",
    "    f = figure(title=title)\n",
    "    f.scatter(x=X, y=Y, color='navy', size=6, alpha=.3)\n",
    "    show(f)\n",
    "    print('intercept variance: ', np.var(X))\n",
    "    print('coefficient variance: ', np.var(Y))\n",
    "    \n",
    "def mse_count(model):\n",
    "# function for counting mean squared error for (sqr(d_A^2 + d_B^2))/2\n",
    "    X = [x*x for x in df[model+' d_A'].values]\n",
    "    Y = [y*y for y in df[model+' d_B'].values]\n",
    "    mse = 0\n",
    "    for (x,y) in zip(X,Y):\n",
    "        mse += np.sqrt(x*x + y*y)/2\n",
    "    return mse/len(X)\n",
    "\n",
    "def ind_mse_plot(model):\n",
    "#fun for plotting individual mse errors\n",
    "    n = 31\n",
    "    X = [x*x for x in df[model+' d_A'].values]\n",
    "    Y = [y*y for y in df[model+' d_B'].values]\n",
    "    f = figure(title=\"Individual MSE for \"+model)\n",
    "    for i in range(int(len(X)/n)):\n",
    "        ind_X = X[i*n:i*(n+1)]\n",
    "        ind_Y = Y[i*n:i*(n+1)]\n",
    "        mse = 0\n",
    "        for (x,y) in zip(ind_X, ind_Y):\n",
    "            mse += np.sqrt(x*x + y*y)/2\n",
    "        f.scatter(x=mse/n color='navy', size=6, alpha=.3)\n",
    "    show(f)\n",
    "        \n",
    "        \n",
    "    "
   ]
  },
  {
   "cell_type": "code",
   "execution_count": null,
   "metadata": {
    "collapsed": true
   },
   "outputs": [],
   "source": [
    "for  model in models:\n",
    "    plot_coef(model, 'intercept / coef '+model)"
   ]
  },
  {
   "cell_type": "code",
   "execution_count": null,
   "metadata": {
    "collapsed": false
   },
   "outputs": [],
   "source": [
    "for model in models:\n",
    "    print(model, ' mse ', mse_count(model))"
   ]
  },
  {
   "cell_type": "code",
   "execution_count": null,
   "metadata": {
    "collapsed": false,
    "scrolled": false
   },
   "outputs": [],
   "source": [
    "for model in models:\n",
    "    ind_mse_plot(model)"
   ]
  },
  {
   "cell_type": "code",
   "execution_count": null,
   "metadata": {
    "collapsed": false
   },
   "outputs": [],
   "source": [
    "a = [1,2,3,4,5]\n",
    "np.var(a)"
   ]
  },
  {
   "cell_type": "code",
   "execution_count": null,
   "metadata": {
    "collapsed": false
   },
   "outputs": [],
   "source": [
    "\n",
    "X = [x.intercept_ for x in df[\"regr model A\"].values]"
   ]
  },
  {
   "cell_type": "code",
   "execution_count": null,
   "metadata": {
    "collapsed": false
   },
   "outputs": [],
   "source": [
    "len(X)"
   ]
  },
  {
   "cell_type": "code",
   "execution_count": null,
   "metadata": {
    "collapsed": false
   },
   "outputs": [],
   "source": [
    "len(X)/31"
   ]
  },
  {
   "cell_type": "code",
   "execution_count": null,
   "metadata": {
    "collapsed": true
   },
   "outputs": [],
   "source": []
  }
 ],
 "metadata": {
  "kernelspec": {
   "display_name": "Python 3",
   "language": "python",
   "name": "python3"
  },
  "language_info": {
   "codemirror_mode": {
    "name": "ipython",
    "version": 3
   },
   "file_extension": ".py",
   "mimetype": "text/x-python",
   "name": "python",
   "nbconvert_exporter": "python",
   "pygments_lexer": "ipython3",
   "version": "3.5.2"
  }
 },
 "nbformat": 4,
 "nbformat_minor": 0
}

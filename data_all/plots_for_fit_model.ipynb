{
 "cells": [
  {
   "cell_type": "code",
   "execution_count": null,
   "metadata": {
    "collapsed": false
   },
   "outputs": [],
   "source": [
    "import pandas as pd\n",
    "import numpy as np\n",
    "import pickle as pkl\n",
    "\n",
    "from sklearn import linear_model\n",
    "from sklearn.metrics  import mean_squared_error as mse\n",
    "\n",
    "from bokeh.plotting import figure, show, output_notebook\n",
    "from bokeh.charts import Scatter, show\n",
    "output_notebook()\n",
    "\n",
    "# with open('dataframe.pkl', 'rb') as f:\n",
    "#     df = pkl.load(f)\n",
    "    \n",
    "models = ['regr', 'regr_ey', 'regr_log', 'nb1NN', 'nb2NN', 'nb3NN']"
   ]
  },
  {
   "cell_type": "code",
   "execution_count": null,
   "metadata": {
    "collapsed": false
   },
   "outputs": [],
   "source": [
    "# uploading data from files\n",
    "path = '../messy_data/'\n",
    "with open(path+'df.pkl', 'rb') as f:\n",
    "    df_regr = pkl.load(f)\n",
    "with open(path+'dataframeALL_regr_ey.pkl', 'rb') as f:\n",
    "    df_ey = pkl.load(f)\n",
    "with open(path+'dataframeALL_regr_log.pkl', 'rb') as f:\n",
    "    df_log = pkl.load(f)"
   ]
  },
  {
   "cell_type": "code",
   "execution_count": null,
   "metadata": {
    "collapsed": false
   },
   "outputs": [],
   "source": [
    "# uploading data from folder pkl_data\n",
    "path = '../pkl_data/'\n",
    "\n",
    "with open(path+'avg_data.pkl', 'rb') as f:\n",
    "\tavg_data = pkl.load(f)\n",
    "\n",
    "with open(path+'ind_models.pkl', 'rb') as f:\n",
    "    ind_models = pkl.load(f)\n",
    "    \n",
    "zero = linear_model.LinearRegression()\n",
    "zero.intercept_, zero.coef_ = 0, np.array([1])"
   ]
  },
  {
   "cell_type": "code",
   "execution_count": null,
   "metadata": {
    "collapsed": true
   },
   "outputs": [],
   "source": [
    "# df_err_*_diff dataframe with differences with and without a model *\n",
    "with open(path+'df_err_regr.pkl', 'rb') as f:\n",
    "    df_err_regr = pkl.load(f)\n",
    "with open(path+'df_err_regr_ey.pkl', 'rb') as f:\n",
    "    df_err_regr_ey = pkl.load(f)\n",
    "# with open(path+'df_err_regr_log.pkl', 'rb') as f:\n",
    "#     df_err_regr_logx = pkl.load(f)\n",
    "with open(path+'df_err_nb1NN.pkl', 'rb') as f:\n",
    "    df_err_nb1NN = pkl.load(f)\n",
    "with open(path+'df_err_nb2NN.pkl', 'rb') as f:\n",
    "    df_err_nb2NN = pkl.load(f)\n",
    "with open(path+'df_err_nb3NN.pkl', 'rb') as f:\n",
    "    df_err_nb3NN = pkl.load(f)\n",
    "with open(path+'df_err_nomodel.pkl', 'rb') as f:\n",
    "    df_err_nomodel = pkl.load(f)"
   ]
  },
  {
   "cell_type": "code",
   "execution_count": null,
   "metadata": {
    "collapsed": false
   },
   "outputs": [],
   "source": [
    "def plot_coef(models, title, name):\n",
    "# function for plotting the linear model's intercepts and coefficients\n",
    "# but it's not working for k-NN models, because they're not lin models\n",
    "# models is a DataFrame containing models\n",
    "    X = [x.intercept_ for x in models.values]\n",
    "    Y = [y.coef_[0] for y in models.values]\n",
    "    \n",
    "    f = figure(title=title)\n",
    "    f.xaxis.axis_label = 'Intercept'\n",
    "    f.yaxis.axis_label = 'Coefficient'\n",
    "    f.scatter(x=X, y=Y, color='navy', size=6, alpha=.2)\n",
    "    show(f)\n",
    "    print('intercept standard deviation: ', np.std(X))\n",
    "    print('coefficient standard deviation: ', np.std(Y))\n",
    "    \n",
    "def mse_count(df, model):\n",
    "# function for counting mean squared error for (d_A^2 + d_B^2)/2\n",
    "    X = [x for x in df[model+' d_A'].values]\n",
    "    Y = [y for y in df[model+' d_B'].values]\n",
    "    mse = 0\n",
    "    for (x,y) in zip(X,Y):\n",
    "        mse += (x*x + y*y)/2\n",
    "    return mse/len(X)\n",
    "\n",
    "def mse_count_dAB(df, model, d='A'):\n",
    "# function for counting mean squared error for d_A^2\n",
    "    X = [x for x in df[model+' d_'+d].values]\n",
    "    mse = 0\n",
    "    for x in X:\n",
    "        mse += x*x\n",
    "    return mse/len(X)\n",
    "\n",
    "def ind_mse_plot(df, model):\n",
    "#fun for plotting individual mse errors\n",
    "    n = 31\n",
    "    X = [x*x for x in df[model+' d_A'].values]\n",
    "    Y = [y*y for y in df[model+' d_B'].values]\n",
    "    f = figure(title=\"Individual MSE for \"+model)\n",
    "    for i in range(int(len(X)/n)):\n",
    "        ind_X = X[i*n:i*(n+1)]\n",
    "        ind_Y = Y[i*n:i*(n+1)]\n",
    "        mse = 0\n",
    "        for (x,y) in zip(ind_X, ind_Y):\n",
    "            mse += (x*x + y*y)/2\n",
    "        f.scatter(x=mse/n, color='navy', size=6, alpha=.3)\n",
    "    show(f)\n"
   ]
  },
  {
   "cell_type": "code",
   "execution_count": null,
   "metadata": {
    "collapsed": false,
    "scrolled": false
   },
   "outputs": [],
   "source": [
    "# intercept / coef plots\n",
    "plot_coef(ind_models['regr'], 'intercept / coef '+\"regr\", \"regr\")"
   ]
  },
  {
   "cell_type": "code",
   "execution_count": null,
   "metadata": {
    "collapsed": false,
    "scrolled": false
   },
   "outputs": [],
   "source": [
    "# intercept / coef plots\n",
    "plot_coef(ind_models['regr_ey'], 'intercept / coef '+\"ey\", 'regr_ey')"
   ]
  },
  {
   "cell_type": "code",
   "execution_count": null,
   "metadata": {
    "collapsed": false
   },
   "outputs": [],
   "source": [
    "# MSE (d_A^2+d_B^2)/2\n",
    "for (df, model) in [(df_regr, 'regr'), (df_ey, 'regr_ey'), (df_log, 'regr_log')]:\n",
    "    print('MSE '+model+': ',mse_count(df, model))"
   ]
  },
  {
   "cell_type": "code",
   "execution_count": null,
   "metadata": {
    "collapsed": false
   },
   "outputs": [],
   "source": [
    "# MSE d_A^2\n",
    "for (df, model) in [(df_regr, 'regr'), (df_ey, 'regr_ey'), (df_log, 'regr_log')]:\n",
    "    print('MSE '+model+': ',mse_count_dAB(df, model, d='A'))"
   ]
  },
  {
   "cell_type": "code",
   "execution_count": null,
   "metadata": {
    "collapsed": false
   },
   "outputs": [],
   "source": [
    "# MSE d_B^2\n",
    "for (df, model) in [(df_regr, 'regr'), (df_ey, 'regr_ey'), (df_log, 'regr_log')]:\n",
    "    print('MSE '+model+': ',mse_count_dAB(df, model, d='B'))"
   ]
  },
  {
   "cell_type": "markdown",
   "metadata": {},
   "source": [
    "Wyniki uzyskane w lutym (średnie d_A^2)\n",
    "MSE regr:     1178.05986567\n",
    "MSE regr_ey:  3200.93215805\n",
    "MSE regr_log: 473686394475.0\n",
    "MSE nb1NN:    2111.55143449\n",
    "MSE nb2NN:    1618.70770597\n",
    "MSE nb3NN:    1432.190942\n",
    "MSE zero:     1970.91485889"
   ]
  },
  {
   "cell_type": "code",
   "execution_count": null,
   "metadata": {
    "collapsed": false,
    "scrolled": true
   },
   "outputs": [],
   "source": [
    "# MSE dopasowania poszczególnych modeli dla każdego uczestnika (też z walidacją leave-one-out).\n",
    "# mean(mse(i) for i in participants) = mse(participants)\n",
    "\n",
    "def model_mse(models):\n",
    "    #### mse: A-1(y_A) comparing to avg answers\n",
    "    temp, ind_mse = [], []\n",
    "    remains = ind_models['remain'].values\n",
    "    for i, lin_mod in enumerate(models):\n",
    "        temp.append(lin_mod.predict(float(remains[i])))\n",
    "    return mse(temp, list(avg_data['mean'])*int(len(remains)/31))\n",
    "\n",
    "print('model mse regr:    ', model_mse(ind_models['inv regr'].values))\n",
    "print('model mse regr_ey: ', model_mse(ind_models['inv regr_ey'].values))\n",
    "print('model mse zero:    ', model_mse(np.array([zero]*7564)))\n",
    "\n",
    "# print(\"ind MSE regr standard deviation: \", np.std(ind_mse_regr))\n",
    "# print(\"ind MSE regr_ey standard deviation: \", np.std(ind_mse_regr_ey))\n",
    "# print(\"ind MSE regr_ey standard deviation: \", np.std(ind_mse_regr_ey))\n"
   ]
  },
  {
   "cell_type": "code",
   "execution_count": null,
   "metadata": {
    "collapsed": false,
    "scrolled": true
   },
   "outputs": [],
   "source": [
    "# TODO liczy się w nieskończoność\n",
    "ind_mse_plot(df_regr, 'regr')"
   ]
  }
 ],
 "metadata": {
  "kernelspec": {
   "display_name": "Python 3",
   "language": "python",
   "name": "python3"
  },
  "language_info": {
   "codemirror_mode": {
    "name": "ipython",
    "version": 3
   },
   "file_extension": ".py",
   "mimetype": "text/x-python",
   "name": "python",
   "nbconvert_exporter": "python",
   "pygments_lexer": "ipython3",
   "version": "3.5.2"
  }
 },
 "nbformat": 4,
 "nbformat_minor": 0
}

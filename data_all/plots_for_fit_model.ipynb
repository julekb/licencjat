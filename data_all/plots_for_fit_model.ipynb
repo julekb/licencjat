{
 "cells": [
  {
   "cell_type": "code",
   "execution_count": 1,
   "metadata": {
    "collapsed": false
   },
   "outputs": [
    {
     "data": {
      "text/html": [
       "\n",
       "    <div class=\"bk-root\">\n",
       "        <a href=\"http://bokeh.pydata.org\" target=\"_blank\" class=\"bk-logo bk-logo-small bk-logo-notebook\"></a>\n",
       "        <span id=\"630c098e-d8e8-43b8-a24e-17b293d97812\">Loading BokehJS ...</span>\n",
       "    </div>"
      ]
     },
     "metadata": {},
     "output_type": "display_data"
    },
    {
     "data": {
      "application/javascript": [
       "\n",
       "(function(global) {\n",
       "  function now() {\n",
       "    return new Date();\n",
       "  }\n",
       "\n",
       "  var force = \"1\";\n",
       "\n",
       "  if (typeof (window._bokeh_onload_callbacks) === \"undefined\" || force !== \"\") {\n",
       "    window._bokeh_onload_callbacks = [];\n",
       "    window._bokeh_is_loading = undefined;\n",
       "  }\n",
       "\n",
       "  function run_callbacks() {\n",
       "    window._bokeh_onload_callbacks.forEach(function(callback) { callback() });\n",
       "    delete window._bokeh_onload_callbacks\n",
       "    console.info(\"Bokeh: all callbacks have finished\");\n",
       "  }\n",
       "\n",
       "  function load_libs(js_urls, callback) {\n",
       "    window._bokeh_onload_callbacks.push(callback);\n",
       "    if (window._bokeh_is_loading > 0) {\n",
       "      console.log(\"Bokeh: BokehJS is being loaded, scheduling callback at\", now());\n",
       "      return null;\n",
       "    }\n",
       "    if (js_urls == null || js_urls.length === 0) {\n",
       "      run_callbacks();\n",
       "      return null;\n",
       "    }\n",
       "    console.log(\"Bokeh: BokehJS not loaded, scheduling load and callback at\", now());\n",
       "    window._bokeh_is_loading = js_urls.length;\n",
       "    for (var i = 0; i < js_urls.length; i++) {\n",
       "      var url = js_urls[i];\n",
       "      var s = document.createElement('script');\n",
       "      s.src = url;\n",
       "      s.async = false;\n",
       "      s.onreadystatechange = s.onload = function() {\n",
       "        window._bokeh_is_loading--;\n",
       "        if (window._bokeh_is_loading === 0) {\n",
       "          console.log(\"Bokeh: all BokehJS libraries loaded\");\n",
       "          run_callbacks()\n",
       "        }\n",
       "      };\n",
       "      s.onerror = function() {\n",
       "        console.warn(\"failed to load library \" + url);\n",
       "      };\n",
       "      console.log(\"Bokeh: injecting script tag for BokehJS library: \", url);\n",
       "      document.getElementsByTagName(\"head\")[0].appendChild(s);\n",
       "    }\n",
       "  };\n",
       "\n",
       "  var js_urls = ['https://cdn.pydata.org/bokeh/release/bokeh-0.12.1.min.js', 'https://cdn.pydata.org/bokeh/release/bokeh-widgets-0.12.1.min.js', 'https://cdn.pydata.org/bokeh/release/bokeh-compiler-0.12.1.min.js'];\n",
       "\n",
       "  var inline_js = [\n",
       "    function(Bokeh) {\n",
       "      Bokeh.set_log_level(\"info\");\n",
       "    },\n",
       "    \n",
       "    function(Bokeh) {\n",
       "      \n",
       "      Bokeh.$(\"#630c098e-d8e8-43b8-a24e-17b293d97812\").text(\"BokehJS successfully loaded\");\n",
       "      var kernel = Jupyter.notebook.kernel\n",
       "      if (kernel.execute !== undefined) {\n",
       "          kernel.execute(\"import bokeh.io; bokeh.io._nb_loaded = True\");\n",
       "      }\n",
       "    },\n",
       "    function(Bokeh) {\n",
       "      console.log(\"Bokeh: injecting CSS: https://cdn.pydata.org/bokeh/release/bokeh-0.12.1.min.css\");\n",
       "      Bokeh.embed.inject_css(\"https://cdn.pydata.org/bokeh/release/bokeh-0.12.1.min.css\");\n",
       "      console.log(\"Bokeh: injecting CSS: https://cdn.pydata.org/bokeh/release/bokeh-widgets-0.12.1.min.css\");\n",
       "      Bokeh.embed.inject_css(\"https://cdn.pydata.org/bokeh/release/bokeh-widgets-0.12.1.min.css\");\n",
       "    }\n",
       "  ];\n",
       "\n",
       "  function run_inline_js() {\n",
       "    for (var i = 0; i < inline_js.length; i++) {\n",
       "      inline_js[i](window.Bokeh);\n",
       "    }\n",
       "  }\n",
       "\n",
       "  if (window._bokeh_is_loading === 0) {\n",
       "    console.log(\"Bokeh: BokehJS loaded, going straight to plotting\");\n",
       "    run_inline_js();\n",
       "  } else {\n",
       "    load_libs(js_urls, function() {\n",
       "      console.log(\"Bokeh: BokehJS plotting callback run at\", now());\n",
       "      run_inline_js();\n",
       "    });\n",
       "  }\n",
       "}(this));"
      ]
     },
     "metadata": {},
     "output_type": "display_data"
    }
   ],
   "source": [
    "import pandas as pd\n",
    "import numpy as np\n",
    "import pickle as pkl\n",
    "\n",
    "from sklearn import linear_model\n",
    "from sklearn.metrics  import mean_squared_error as mse\n",
    "\n",
    "from bokeh.plotting import figure, show, output_notebook\n",
    "from bokeh.charts import Scatter, show, Histogram\n",
    "from bokeh.layouts import row\n",
    "output_notebook()\n",
    "\n",
    "# with open('dataframe.pkl', 'rb') as f:\n",
    "#     df = pkl.load(f)\n",
    "    \n",
    "models = ['regr', 'regr_ey', 'regr_log', 'nb1NN', 'nb2NN', 'nb3NN']"
   ]
  },
  {
   "cell_type": "code",
   "execution_count": null,
   "metadata": {
    "collapsed": false
   },
   "outputs": [],
   "source": [
    "# uploading data from files\n",
    "path = '../messy_data/'\n",
    "with open(path+'df.pkl', 'rb') as f:\n",
    "    df_regr = pkl.load(f)\n",
    "with open(path+'dataframeALL_regr_ey.pkl', 'rb') as f:\n",
    "    df_ey = pkl.load(f)\n",
    "# with open(path+'dataframeALL_regr_log.pkl', 'rb') as f:\n",
    "#     df_log = pkl.load(f)"
   ]
  },
  {
   "cell_type": "code",
   "execution_count": 2,
   "metadata": {
    "collapsed": true
   },
   "outputs": [],
   "source": [
    "# NEW DATA\n",
    "path2 = '../data_final/'\n",
    "with open(path2+'avg_data.pkl', 'rb') as f:\n",
    "\tavg_data = pkl.load(f)\n",
    "\n",
    "with open(path2+'ind_models.pkl', 'rb') as f:\n",
    "    ind_models = pkl.load(f)"
   ]
  },
  {
   "cell_type": "code",
   "execution_count": null,
   "metadata": {
    "collapsed": false
   },
   "outputs": [],
   "source": [
    "# uploading data from folder pkl_data\n",
    "path = '../pkl_data/'\n",
    "    \n",
    "zero = linear_model.LinearRegression()\n",
    "zero.intercept_, zero.coef_ = 0, np.array([1])"
   ]
  },
  {
   "cell_type": "code",
   "execution_count": 3,
   "metadata": {
    "collapsed": true
   },
   "outputs": [],
   "source": [
    "# df_err_*_diff dataframe with differences with and without a model *\n",
    "with open(path2+'df_err_regr.pkl', 'rb') as f:\n",
    "    df_err_regr = pkl.load(f)\n",
    "# with open(path+'df_err_regr_ey.pkl', 'rb') as f:\n",
    "#     df_err_regr_ey = pkl.load(f)\n",
    "# with open(path+'df_err_regr_log.pkl', 'rb') as f:\n",
    "#     df_err_regr_logx = pkl.load(f)\n",
    "# with open(path+'df_err_nb1NN.pkl', 'rb') as f:\n",
    "#     df_err_nb1NN = pkl.load(f)\n",
    "# with open(path+'df_err_nb2NN.pkl', 'rb') as f:\n",
    "#     df_err_nb2NN = pkl.load(f)\n",
    "# with open(path+'df_err_nb3NN.pkl', 'rb') as f:\n",
    "#     df_err_nb3NN = pkl.load(f)\n",
    "# with open(path+'df_err_nomodel.pkl', 'rb') as f:\n",
    "#     df_err_nomodel = pkl.load(f)"
   ]
  },
  {
   "cell_type": "code",
   "execution_count": 4,
   "metadata": {
    "collapsed": false
   },
   "outputs": [],
   "source": [
    "def plot_coef(models, title, name):\n",
    "# function for plotting the linear model's intercepts and coefficients\n",
    "# but it's not working for k-NN models, because they're not lin models\n",
    "# models is a DataFrame containing models\n",
    "    X = [x.intercept_ for x in models.values]\n",
    "    Y = [y.coef_[0] for y in models.values]\n",
    "    \n",
    "    f = figure(title=title)\n",
    "    f.xaxis.axis_label = 'Intercept'\n",
    "    f.yaxis.axis_label = 'Coefficient'\n",
    "    f.scatter(x=X, y=Y, color='navy', size=6, alpha=.2)\n",
    "    show(f)\n",
    "    print(name+' intercept standard deviation: ', np.std(X))\n",
    "    print(name+' coefficient standard deviation: ', np.std(Y))\n",
    "    \n",
    "def mse_count(df, model):\n",
    "# function for counting mean squared error for (d_A^2 + d_B^2)/2\n",
    "    X = [x for x in df[model+' d_A'].values]\n",
    "    Y = [y for y in df[model+' d_B'].values]\n",
    "    mse = 0\n",
    "    for (x,y) in zip(X,Y):\n",
    "        mse += (x*x + y*y)/2\n",
    "    return mse/len(X)\n",
    "\n",
    "def mse_count_dAB(df, model, d='A'):\n",
    "# function for counting mean squared error for d_A^2\n",
    "    X = [x for x in df[model+' d_'+d].values]\n",
    "    mse = 0\n",
    "    for x in X:\n",
    "        mse += x*x\n",
    "    return mse/len(X)\n",
    "\n",
    "def ind_mse_plot(df, model):\n",
    "#fun for plotting individual mse errors\n",
    "    n = 31\n",
    "    X = [x*x for x in df[model+' d_A'].values]\n",
    "    Y = [y*y for y in df[model+' d_B'].values]\n",
    "    f = figure(title=\"Individual MSE for \"+model)\n",
    "    for i in range(int(len(X)/n)):\n",
    "        ind_X = X[i*n:i*(n+1)]\n",
    "        ind_Y = Y[i*n:i*(n+1)]\n",
    "        mse = 0\n",
    "        for (x,y) in zip(ind_X, ind_Y):\n",
    "            mse += (x*x + y*y)/2\n",
    "        f.scatter(x=mse/n, color='navy', size=6, alpha=.3)\n",
    "    show(f)\n",
    "\n",
    "   \n",
    "##### functions for counting (d_A^2 + d_B^2)/2 and its SD for both regression and zero models\n",
    "\n",
    "def mean_count(df, model):\n",
    "# function for counting mean and sd for (d_A^2 + d_B^2)/2\n",
    "    temp, l = [], []\n",
    "    for i, (x,y) in enumerate(zip(df[model+' d_A'].values, df[model+' d_B'])):\n",
    "        temp.append((float(x*x) + float(y*y))/2)\n",
    "        if (i%31 == 30):\n",
    "            l.append(np.mean(temp))\n",
    "            temp = []\n",
    "    return np.mean(l), np.std(l)\n",
    "\n",
    "def mean_count_for_zero(ind_models):\n",
    "# function for counting mean and sd for (d_A^2 + d_B^2)/2 for ZERO MODEL\n",
    "# d_A^2 = [A_y - A(B^-1(B_y))]^2       for zero model B = A = id\n",
    "# d_A^2 = [A_y - id(id(B_Y))]^2 = A_y^2 - 2A_yB_y + B_y^2\n",
    "# (d_A^2 + d_B^2)/2 = A_y^2 - 2A_yB_y + B_y^2\n",
    "\n",
    "    participants = 241\n",
    "    N = 31\n",
    "    temp, l = [], []\n",
    "    \n",
    "    for i in range(participants):\n",
    "        for j in range(i+1,participants):\n",
    "            for k in range(N):\n",
    "                A_y, B_y = float(ind_models.loc[i,k]['remain']), float(ind_models.loc[j,k]['remain'])\n",
    "                temp.append(A_y*A_y - 2*A_y*B_y + B_y*B_y)\n",
    "            l.append(np.mean(temp))\n",
    "            temp = []\n",
    "    return np.mean(l), np.std(l)\n",
    "                \n",
    "    "
   ]
  },
  {
   "cell_type": "code",
   "execution_count": 5,
   "metadata": {
    "collapsed": false
   },
   "outputs": [
    {
     "name": "stdout",
     "output_type": "stream",
     "text": [
      "(1866.8594073906731, 1098.989299713528)\n",
      "(1136.9421264241248, 490.46868553632419)\n"
     ]
    },
    {
     "ename": "NameError",
     "evalue": "name 'df_err_regr_ey' is not defined",
     "output_type": "error",
     "traceback": [
      "\u001b[0;31m---------------------------------------------------------------------------\u001b[0m",
      "\u001b[0;31mNameError\u001b[0m                                 Traceback (most recent call last)",
      "\u001b[0;32m<ipython-input-5-68c9921c1c2e>\u001b[0m in \u001b[0;36m<module>\u001b[0;34m()\u001b[0m\n\u001b[1;32m      1\u001b[0m \u001b[0mprint\u001b[0m\u001b[0;34m(\u001b[0m\u001b[0mmean_count_for_zero\u001b[0m\u001b[0;34m(\u001b[0m\u001b[0mind_models\u001b[0m\u001b[0;34m)\u001b[0m\u001b[0;34m)\u001b[0m\u001b[0;34m\u001b[0m\u001b[0m\n\u001b[1;32m      2\u001b[0m \u001b[0mprint\u001b[0m\u001b[0;34m(\u001b[0m\u001b[0mmean_count\u001b[0m\u001b[0;34m(\u001b[0m\u001b[0mdf_err_regr\u001b[0m\u001b[0;34m,\u001b[0m \u001b[0;34m'regr'\u001b[0m\u001b[0;34m)\u001b[0m\u001b[0;34m)\u001b[0m\u001b[0;34m\u001b[0m\u001b[0m\n\u001b[0;32m----> 3\u001b[0;31m \u001b[0mprint\u001b[0m\u001b[0;34m(\u001b[0m\u001b[0mmean_count\u001b[0m\u001b[0;34m(\u001b[0m\u001b[0mdf_err_regr_ey\u001b[0m\u001b[0;34m,\u001b[0m \u001b[0;34m'regr_ey'\u001b[0m\u001b[0;34m)\u001b[0m\u001b[0;34m)\u001b[0m\u001b[0;34m\u001b[0m\u001b[0m\n\u001b[0m",
      "\u001b[0;31mNameError\u001b[0m: name 'df_err_regr_ey' is not defined"
     ]
    }
   ],
   "source": [
    "print(mean_count_for_zero(ind_models))\n",
    "print(mean_count(df_err_regr, 'regr'))\n",
    "# print(mean_count(df_err_regr_ey, 'regr_ey'))"
   ]
  },
  {
   "cell_type": "markdown",
   "metadata": {},
   "source": [
    "# Plots of intercept and coeficients "
   ]
  },
  {
   "cell_type": "code",
   "execution_count": null,
   "metadata": {
    "collapsed": false
   },
   "outputs": [],
   "source": [
    "# intercept / coef plots\n",
    "plot_coef(ind_models['regr'], 'intercept / coefficient '+\"regr\", \"regr\")"
   ]
  },
  {
   "cell_type": "code",
   "execution_count": null,
   "metadata": {
    "collapsed": false
   },
   "outputs": [],
   "source": [
    "# intercept / coef plots\n",
    "plot_coef(ind_models['regr_ey'], 'intercept / coefficient '+\"regr_ey\", 'regr_ey')"
   ]
  },
  {
   "cell_type": "code",
   "execution_count": null,
   "metadata": {
    "collapsed": false
   },
   "outputs": [],
   "source": [
    "# intercept / coef plots\n",
    "plot_coef(ind_models['regr_log'], 'intercept / coefficient '+\"regr_log\", 'regr_log')"
   ]
  },
  {
   "cell_type": "code",
   "execution_count": 8,
   "metadata": {
    "collapsed": false
   },
   "outputs": [
    {
     "name": "stdout",
     "output_type": "stream",
     "text": [
      "MSE regr:  0   NaN\n",
      "Name: converted, dtype: float64\n"
     ]
    }
   ],
   "source": [
    "# MSE (d_A^2+d_B^2)/2\n",
    "for (df, model) in [(df_err_regr, 'regr')]:\n",
    "    print('MSE '+model+': ',mse_count(df, model))"
   ]
  },
  {
   "cell_type": "code",
   "execution_count": null,
   "metadata": {
    "collapsed": true
   },
   "outputs": [],
   "source": [
    "# MSE d_A^2\n",
    "for (df, model) in [(df_regr, 'regr'), (df_ey, 'regr_ey'), (df_log, 'regr_log')]:\n",
    "    print('MSE '+model+': ',mse_count_dAB(df, model, d='A'))"
   ]
  },
  {
   "cell_type": "code",
   "execution_count": null,
   "metadata": {
    "collapsed": false
   },
   "outputs": [],
   "source": [
    "# MSE d_B^2\n",
    "for (df, model) in [(df_regr, 'regr'), (df_ey, 'regr_ey'), (df_log, 'regr_log')]:\n",
    "    print('MSE '+model+': ',mse_count_dAB(df, model, d='B'))"
   ]
  },
  {
   "cell_type": "markdown",
   "metadata": {},
   "source": [
    "Wyniki uzyskane w lutym (średnie d_A^2)\n",
    "MSE regr:     1178.05986567\n",
    "MSE regr_ey:  3200.93215805\n",
    "MSE regr_log: 473686394475.0\n",
    "MSE nb1NN:    2111.55143449\n",
    "MSE nb2NN:    1618.70770597\n",
    "MSE nb3NN:    1432.190942\n",
    "MSE zero:     1970.91485889"
   ]
  },
  {
   "cell_type": "code",
   "execution_count": null,
   "metadata": {
    "collapsed": false,
    "scrolled": false
   },
   "outputs": [],
   "source": [
    "# MSE dopasowania poszczególnych modeli dla każdego uczestnika (też z walidacją leave-one-out).\n",
    "# mean(mse(i) for i in participants) = mse(participants)\n",
    "\n",
    "def model_mse_sd(models):\n",
    "    #### mse: A^-1(y_A) comparing to avg answers\n",
    "    temp = []\n",
    "    temp2, ind_mse2 = [], []\n",
    "    remains = ind_models['remain'].values\n",
    "    for i, lin_mod in enumerate(models):\n",
    "        temp.append(lin_mod.predict(float(remains[i])))\n",
    "        temp2.append(lin_mod.predict(float(remains[i])))\n",
    "        if (i%31 == 30):\n",
    "            ind_mse2.append(mse(temp2, avg_data['mean']))\n",
    "            temp2 = []\n",
    "    return mse(temp, list(avg_data['mean'])*int(len(remains)/31)), np.std(temp), np.mean(ind_mse2), np.std(ind_mse2)\n",
    "\n",
    "print('model mse and sd regr:    ', model_mse_sd(ind_models['inv regr'].values))\n",
    "# print('model mse and sd regr_ey: ', model_mse_sd(ind_models['inv regr_ey'].values))\n",
    "print('model mse and sd zero:    ', model_mse_sd(np.array([zero]*7471)))"
   ]
  },
  {
   "cell_type": "code",
   "execution_count": null,
   "metadata": {
    "collapsed": false,
    "scrolled": true
   },
   "outputs": [],
   "source": [
    "# TODO liczy się w nieskończoność\n",
    "ind_mse_plot(df_regr, 'regr')"
   ]
  },
  {
   "cell_type": "code",
   "execution_count": null,
   "metadata": {
    "collapsed": false
   },
   "outputs": [],
   "source": [
    "# models plots TESTS\n",
    "\"\"\"\"def plot_ind_model(model, plot_title):\n",
    "    f = figure(title=plot_title)\n",
    "    X = avg_data['stimulus']\n",
    "    Y = \n",
    "#     model[]\n",
    "    show(f)\n",
    " \"\"\"\"   "
   ]
  },
  {
   "cell_type": "code",
   "execution_count": 63,
   "metadata": {
    "collapsed": true
   },
   "outputs": [],
   "source": [
    "def compare_ind_zero_model(inv_ind_models, remains):\n",
    "#### comparing communication error with and without individual model####\n",
    "# ind_model is a DataFrame containing one model / it's a column ['model_name'] from ind_models\n",
    "# column['remain'] from ind_models\n",
    "\n",
    "    # participants = len(data_all)/31\n",
    "    # N = len(data_all[0])\n",
    "    participants = 241\n",
    "    N = 31\n",
    "\n",
    "    zero_model_diff = []\n",
    "    ind_model_diff = []\n",
    "\n",
    "    for i in range(participants):\n",
    "        for j in range(i+1,participants):\n",
    "            for k in range(N):\n",
    "                A, B = inv_ind_models.loc[i,k], inv_ind_models.loc[j,k]\n",
    "                A_y, B_y = float(remains.loc[i,k]), float(remains.loc[j,k])\n",
    "                # diff between raw answers\n",
    "                zero_model_diff.append(abs(A_y - B_y))\n",
    "                #  diff between answers with individual models\n",
    "                ind_model_diff.append(abs(float(A.predict(A_y) - B.predict(B_y))))\n",
    "        print(i)\n",
    "    # dif = [zero-ind for zero, ind in zip(zero_model_diff,ind_model_diff)]\n",
    "    # ind_zero_mse = mse(zero_model_diff, ind_model_diff)\n",
    "    # return np.mean(dif), ind_zero_mse\n",
    "    return zero_model_diff, ind_model_diff\n",
    "\n",
    "def compare_ind_zero_model2(ind_models, inv_ind_models, remains):\n",
    "#### comparing communication error with and without individual model####\n",
    "# ind_model is a DataFrame containing one model / it's a column ['model_name'] from ind_models\n",
    "# column['remain'] from ind_models\n",
    "\n",
    "# here it is mean(B(A^-1(A_y)) - B_y, A(B^-1(B_y)) - A_y\n",
    "\n",
    "    # participants = len(data_all)/31\n",
    "    # N = len(data_all[0])\n",
    "    participants = 241\n",
    "    N = 31\n",
    "\n",
    "    zero_model_diff = []\n",
    "    ind_model_diff = []\n",
    "\n",
    "    for i in range(participants):\n",
    "        for j in range(i+1,participants):\n",
    "            for k in range(N):\n",
    "#               there is an incoherence in models and their inv names but it is correct\n",
    "                A, B_inv = inv_ind_models.loc[i,k], ind_models.loc[j,k]\n",
    "                A_inv, B = ind_models.loc[i,k], inv_ind_models.loc[j,k]\n",
    "                A_y, B_y = float(remains.loc[i,k]), float(remains.loc[j,k])\n",
    "                d_A = float(A_y - A.predict(float(B_inv.predict(B_y))))\n",
    "                d_B = float(B.predict(float(A_inv.predict(A_y))) - B_y)\n",
    "                # diff between raw answers\n",
    "                zero_model_diff.append(abs(A_y - B_y))\n",
    "                #  diff between answers with individual models\n",
    "#                 ind_model_diff.append(abs(abs(float(B.predict(float(A.predict(A_y)) - B_y))) - abs(float(A_y - A.predict(float(B.predict(B_y))))))/2)\n",
    "                ind_model_diff.append(float(d_A-d_B)/2)\n",
    "    # dif = [zero-ind for zero, ind in zip(zero_model_diff,ind_model_diff)]\n",
    "    # ind_zero_mse = mse(zero_model_diff, ind_model_diff)\n",
    "    # return np.mean(dif), ind_zero_mse\n",
    "    return zero_model_diff, ind_model_diff\n",
    "\n",
    "def compare_ind_zero_mode3(ind_models, inv_ind_models, remains):\n",
    "#### comparing communication error with and without individual model####\n",
    "# returns zero, d_A and d_B\n",
    "\n",
    "# here it is mean(B(A^-1(A_y)) - B_y, A(B^-1(B_y)) - A_y\n",
    "\n",
    "    # participants = len(data_all)/31\n",
    "    # N = len(data_all[0])\n",
    "    participants = 241\n",
    "    N = 31\n",
    "\n",
    "    zero_model_diff = []\n",
    "    d_A = []\n",
    "    d_B = []\n",
    "\n",
    "    for i in range(participants):\n",
    "        for j in range(i+1,participants):\n",
    "            for k in range(N):\n",
    "#               there is an incoherence in models and their inv names but it is correct\n",
    "                A, B_inv = inv_ind_models.loc[i,k], ind_models.loc[j,k]\n",
    "                A_inv, B = ind_models.loc[i,k], inv_ind_models.loc[j,k]\n",
    "                A_y, B_y = float(remains.loc[i,k]), float(remains.loc[j,k])\n",
    "                d_A.append(float(A_y - A.predict(float(B_inv.predict(B_y)))))\n",
    "                d_B.append(float(B.predict(float(A_inv.predict(A_y))) - B_y))\n",
    "                # diff between raw answers\n",
    "                zero_model_diff.append(A_y - B_y)\n",
    "               \n",
    "    return zero_model_diff, d_A, d_B"
   ]
  },
  {
   "cell_type": "code",
   "execution_count": 33,
   "metadata": {
    "collapsed": false
   },
   "outputs": [
    {
     "ename": "NameError",
     "evalue": "name 'title' is not defined",
     "output_type": "error",
     "traceback": [
      "\u001b[0;31m---------------------------------------------------------------------------\u001b[0m",
      "\u001b[0;31mNameError\u001b[0m                                 Traceback (most recent call last)",
      "\u001b[0;32m<ipython-input-33-f8e993f1a6bb>\u001b[0m in \u001b[0;36m<module>\u001b[0;34m()\u001b[0m\n\u001b[0;32m----> 1\u001b[0;31m \u001b[0mf\u001b[0m \u001b[0;34m=\u001b[0m \u001b[0mfigure\u001b[0m\u001b[0;34m(\u001b[0m\u001b[0mtitle\u001b[0m\u001b[0;34m=\u001b[0m\u001b[0mtitle\u001b[0m\u001b[0;34m)\u001b[0m\u001b[0;34m\u001b[0m\u001b[0m\n\u001b[0m\u001b[1;32m      2\u001b[0m \u001b[0mf\u001b[0m\u001b[0;34m.\u001b[0m\u001b[0mxaxis\u001b[0m\u001b[0;34m.\u001b[0m\u001b[0maxis_label\u001b[0m \u001b[0;34m=\u001b[0m \u001b[0;34m'Intercept'\u001b[0m\u001b[0;34m\u001b[0m\u001b[0m\n\u001b[1;32m      3\u001b[0m \u001b[0mf\u001b[0m\u001b[0;34m.\u001b[0m\u001b[0myaxis\u001b[0m\u001b[0;34m.\u001b[0m\u001b[0maxis_label\u001b[0m \u001b[0;34m=\u001b[0m \u001b[0;34m'Coefficient'\u001b[0m\u001b[0;34m\u001b[0m\u001b[0m\n\u001b[1;32m      4\u001b[0m \u001b[0mf\u001b[0m\u001b[0;34m.\u001b[0m\u001b[0mscatter\u001b[0m\u001b[0;34m(\u001b[0m\u001b[0mx\u001b[0m\u001b[0;34m=\u001b[0m\u001b[0mzero_model_diff\u001b[0m\u001b[0;34m,\u001b[0m \u001b[0my\u001b[0m\u001b[0;34m=\u001b[0m\u001b[0mY\u001b[0m\u001b[0;34m,\u001b[0m \u001b[0mcolor\u001b[0m\u001b[0;34m=\u001b[0m\u001b[0;34m'navy'\u001b[0m\u001b[0;34m,\u001b[0m \u001b[0msize\u001b[0m\u001b[0;34m=\u001b[0m\u001b[0;36m6\u001b[0m\u001b[0;34m,\u001b[0m \u001b[0malpha\u001b[0m\u001b[0;34m=\u001b[0m\u001b[0;36m.2\u001b[0m\u001b[0;34m)\u001b[0m\u001b[0;34m\u001b[0m\u001b[0m\n\u001b[1;32m      5\u001b[0m \u001b[0mshow\u001b[0m\u001b[0;34m(\u001b[0m\u001b[0mf\u001b[0m\u001b[0;34m)\u001b[0m\u001b[0;34m\u001b[0m\u001b[0m\n",
      "\u001b[0;31mNameError\u001b[0m: name 'title' is not defined"
     ]
    }
   ],
   "source": [
    "f = figure(title=title)\n",
    "f.xaxis.axis_label = 'Intercept'\n",
    "f.yaxis.axis_label = 'Coefficient'\n",
    "f.scatter(x=zero_model_diff, y=Y, color='navy', size=6, alpha=.2)\n",
    "show(f)\n",
    "print('intercept standard deviation: ', np.std(X))\n",
    "print('coefficient standard deviation: ', np.std(Y))"
   ]
  },
  {
   "cell_type": "markdown",
   "metadata": {},
   "source": [
    "# REGR histograms"
   ]
  },
  {
   "cell_type": "code",
   "execution_count": 64,
   "metadata": {
    "collapsed": false
   },
   "outputs": [],
   "source": [
    "inv_regr = ind_models['inv regr']\n",
    "remains = ind_models['remain']\n",
    "\n",
    "#  mean B(A(A_y)) A(B(B_Y))\n",
    "regr = ind_models['regr']\n",
    "(zero_model_diff, ind_model_diff2) = compare_ind_zero_model2(regr, inv_regr, remains)\n",
    "\n",
    "# zero_ind_diff = [zero-ind for (zero, ind) in zip(zero_model_diff, ind_model_diff)]\n",
    "zero_ind_diff2 = [abs(zero)-abs(ind) for (zero, ind) in zip(zero_model_diff, ind_model_diff2)]\n",
    "\n",
    "# zero_regr_ey_diff = [zero-regr_ey for (zero, regr_ey) in zip(zero_model_diff, ind_regr_ey_diff)]"
   ]
  },
  {
   "cell_type": "code",
   "execution_count": 65,
   "metadata": {
    "collapsed": false
   },
   "outputs": [
    {
     "data": {
      "text/plain": [
       "-1.8871297422433144"
      ]
     },
     "execution_count": 65,
     "metadata": {},
     "output_type": "execute_result"
    }
   ],
   "source": [
    "ind_model_diff3 = [abs(x) for x in ind_model_diff2]\n",
    "np.mean(ind_model_diff2)"
   ]
  },
  {
   "cell_type": "code",
   "execution_count": 73,
   "metadata": {
    "collapsed": false
   },
   "outputs": [
    {
     "name": "stdout",
     "output_type": "stream",
     "text": [
      "33.365778699 9.70887994702\n"
     ]
    }
   ],
   "source": []
  },
  {
   "cell_type": "code",
   "execution_count": null,
   "metadata": {
    "collapsed": false,
    "scrolled": false
   },
   "outputs": [],
   "source": [
    "#### histograms presenting the communication differences between to agents\n",
    "# REGR\n",
    "\n",
    "def histogram(data, bins, title):\n",
    "    \n",
    "    p = Histogram(data, title=title, bins=bins, xgrid=True)\n",
    "    p.xaxis.axis_label = 'difference'\n",
    "    p.yaxis.axis_label = 'occurring'\n",
    "    p.y_range.end = 60000\n",
    "    p.x_range.start = 0\n",
    "    p.x_range.end = 200\n",
    "    return p\n",
    "\n",
    "data1 = ind_model_diff\n",
    "bins1 = int(max(data1)/2)\n",
    "p1 = histogram(data1, bins1, \"Individual regr difference\")\n",
    "\n",
    "data2 = ind_model_diff2\n",
    "bins2 = int(max(data2)/2)\n",
    "p2 = histogram(data2, bins2, \"Individual regr2 difference\")\n",
    "\n",
    "data3 = zero_model_diff\n",
    "bins3 = int(max(data3)/2)\n",
    "p3 = histogram(data3, bins3, \"Zero model difference\")\n",
    "\n",
    "\n",
    "show(row(p3, p1, p2))"
   ]
  },
  {
   "cell_type": "code",
   "execution_count": null,
   "metadata": {
    "collapsed": false
   },
   "outputs": [],
   "source": [
    "data4 = zero_ind_diff\n",
    "bins4 = int((max(data4) - min(data4))/2)\n",
    "p4 = Histogram(data4, title='Zero model difference - Ind regr difference', bins=bins4, xgrid=True)\n",
    "p4.xaxis.axis_label = 'difference'\n",
    "p4.yaxis.axis_label = 'occurring'\n",
    "p4.y_range.end = 60000\n",
    "p4.x_range.start = -150\n",
    "p4.x_range.end = 150\n",
    "\n",
    "data5 = zero_ind_diff2\n",
    "bins5 = int((max(data5) - min(data5))/2)\n",
    "p5 = Histogram(data5, title='Zero model difference - Ind regr difference2', bins=bins5, xgrid=True)\n",
    "p5.xaxis.axis_label = 'difference'\n",
    "p5.yaxis.axis_label = 'occurring'\n",
    "p5.y_range.end = 60000\n",
    "p5.x_range.start = -150\n",
    "p5.x_range.end = 150\n",
    "\n",
    "show(row(p4,p5))\n"
   ]
  },
  {
   "cell_type": "code",
   "execution_count": null,
   "metadata": {
    "collapsed": false,
    "scrolled": false
   },
   "outputs": [],
   "source": [
    "# difference between ind_model_diff(A(A_y)-B(B_Y)) and ind_model_diff2(B(A(A_Y))-B_y)\n",
    "data6 = [ind1 - ind2 for (ind1, ind2) in zip(ind_model_diff, ind_model_diff2)]\n",
    "bins6 = int((max(data6) - min(data6))/2)\n",
    "\n",
    "p6 = Histogram(between, title='Ind regr difference - Ind regr difference 2', bins=bins6, xgrid=True)\n",
    "p6.xaxis.axis_label = 'difference'\n",
    "p6.yaxis.axis_label = 'occurring'\n",
    "p6.y_range.end = 80000\n",
    "p6.x_range.start = -150\n",
    "p6.x_range.end = 150\n",
    "\n",
    "show(p6)"
   ]
  },
  {
   "cell_type": "markdown",
   "metadata": {},
   "source": [
    "# REGR_EY histograms"
   ]
  },
  {
   "cell_type": "code",
   "execution_count": null,
   "metadata": {
    "collapsed": true
   },
   "outputs": [],
   "source": [
    "inv_regr_ey = ind_models['inv regr_ey']\n",
    "ind_regr_ey_diff = compare_ind_zero_model(inv_regr_ey, remains)[1]"
   ]
  },
  {
   "cell_type": "code",
   "execution_count": null,
   "metadata": {
    "collapsed": false,
    "scrolled": false
   },
   "outputs": [],
   "source": [
    "#### histograms presenting the communication differences between to agents\n",
    "# REGR_EY\n",
    "\n",
    "# data7 = ind_regr_ey_diff\n",
    "# bins7 = int(max(data7)/2)\n",
    "# p7 = histogram(data7, bins7, \"Individual regr_ey difference\")\n",
    "# show(p7)\n",
    "# ''''''''''\n",
    "p7 = Histogram(ind_regr_ey_diff, title='Individual regr_ey difference', bins=200, xgrid=True)\n",
    "p7.xaxis.axis_label = 'difference'\n",
    "p7.yaxis.axis_label = 'occurring'\n",
    "p7.y_range.end = 200000\n",
    "p7.x_range.start = 0\n",
    "p7.x_range.end = 50\n",
    "\n",
    "show(p7)\n",
    "# '''''''''\n"
   ]
  },
  {
   "cell_type": "code",
   "execution_count": null,
   "metadata": {
    "collapsed": true
   },
   "outputs": [],
   "source": [
    "# zero model - regr_ey\n",
    "\n",
    "data8 = zero_regr_ey_diff\n",
    "bins8 = int((max(data8) - min(data8))/2)\n",
    "p8 = Histogram(data8, title='Zero model difference - Ind regr_ey difference', bins=bins4, xgrid=True)\n",
    "p8.xaxis.axis_label = 'difference'\n",
    "p8.yaxis.axis_label = 'occurring'\n",
    "p8.y_range.end = 60000\n",
    "p8.x_range.start = -150\n",
    "p8.x_range.end = 150\n",
    "\n",
    "show(p8)"
   ]
  },
  {
   "cell_type": "code",
   "execution_count": 75,
   "metadata": {
    "collapsed": false,
    "scrolled": true
   },
   "outputs": [
    {
     "name": "stdout",
     "output_type": "stream",
     "text": [
      "mean for zero model diff:        33.365778699\n",
      "mean for ind regr2 diff:         9.70887994702\n",
      "mean for (zero - regr2) diff     23.6568987519\n",
      "SD for zero model diff:          27.4514884697\n",
      "SD for ind regr2 diff:           9.58852041972\n",
      "SD for (zero - regr2) diff       28.1448256451\n",
      "33.365778699 9.70887994702\n"
     ]
    }
   ],
   "source": [
    "#### mean difference for histograms above\n",
    "abs_zero = [abs(x) for x in zero_model_diff]\n",
    "abs_regr = [abs(x) for x in ind_model_diff2]\n",
    "\n",
    "print('mean for zero model diff:       ', np.mean(abs_zero))\n",
    "# print('mean for ind regr diff:         ', np.mean(ind_model_diff))\n",
    "# print('mean for (zero - regr) diff:    ', np.mean(zero_ind_diff))\n",
    "print('mean for ind regr2 diff:        ', np.mean(abs_regr))\n",
    "print('mean for (zero - regr2) diff    ', np.mean(zero_ind_diff2))\n",
    "# print('mean for ind regr_ey diff:      ', np.mean(ind_regr_ey_diff))\n",
    "#### standard deviation for histograms above\n",
    "print('SD for zero model diff:         ', np.std(abs_zero))\n",
    "# print('SD for ind regr diff:           ', np.std(ind_model_diff))\n",
    "# print('SD for (zero - regr) diff:      ', np.std(zero_ind_diff))\n",
    "print('SD for ind regr2 diff:          ', np.std(abs_regr))\n",
    "print('SD for (zero - regr2) diff      ', np.std(zero_ind_diff2))\n",
    "# print('SD for ind regr_ey diff:        ', np.std(ind_regr_ey_diff))\n",
    "\n"
   ]
  },
  {
   "cell_type": "code",
   "execution_count": null,
   "metadata": {
    "collapsed": false
   },
   "outputs": [],
   "source": [
    "# TESTS\n",
    "import scipy.special\n",
    "\n",
    "from bokeh.layouts import gridplot\n",
    "\n",
    "p1 = figure(title=\"Normal Distribution (μ=0, σ=0.5)\",tools=\"save\",\n",
    "            background_fill_color=\"#E8DDCB\")\n",
    "\n",
    "xx = [1,1,2,3,0,0,0,0,-1,-1,-3,1, 1.1, 3]\n",
    "\n",
    "mu, sigma = 0, 0.5\n",
    "\n",
    "measured = np.random.normal(mu, sigma, 1000)\n",
    "hist, edges = np.histogram(measured, density=True, bins=50)\n",
    "\n",
    "x = np.linspace(-2, 2, 1000)\n",
    "pdf = 1/(sigma * np.sqrt(2*np.pi)) * np.exp(-(x-mu)**2 / (2*sigma**2))\n",
    "cdf = (1+scipy.special.erf((x-mu)/np.sqrt(2*sigma**2)))/2\n",
    "hist = np.histogram(ind_model_diff, density=True, bins=50)\n",
    "p1.quad(top=hist, bottom=0, left=edges[:-1], right=edges[1:],\n",
    "        fill_color=\"#036564\", line_color=\"#033649\")\n",
    "#p1.line(x, pdf, line_color=\"#D95B43\", line_width=8, alpha=0.7, legend=\"PDF\")\n",
    "#p1.line(x, cdf, line_color=\"white\", line_width=2, alpha=0.7, legend=\"CDF\")\n",
    "\n",
    "p1.legend.location = \"top_left\"\n",
    "p1.xaxis.axis_label = 'x'\n",
    "p1.yaxis.axis_label = 'Pr(x)'\n"
   ]
  },
  {
   "cell_type": "code",
   "execution_count": null,
   "metadata": {
    "collapsed": false
   },
   "outputs": [],
   "source": [
    "bins = int(max(zero_regr_ey_diff)/2)\n",
    "p3 = Histogram(zero_regr_ey_diff, title='Zero model difference - Ind regr_ey difference', bins=bins, xgrid=True)\n",
    "p3.xaxis.axis_label = 'difference'\n",
    "p3.yaxis.axis_label = 'occurring'\n",
    "p3.y_range.end = 60000\n",
    "p3.x_range.start = -10\n",
    "p3.x_range.end = 200\n",
    "\n",
    "show(p3)"
   ]
  }
 ],
 "metadata": {
  "kernelspec": {
   "display_name": "Python 3",
   "language": "python",
   "name": "python3"
  },
  "language_info": {
   "codemirror_mode": {
    "name": "ipython",
    "version": 3
   },
   "file_extension": ".py",
   "mimetype": "text/x-python",
   "name": "python",
   "nbconvert_exporter": "python",
   "pygments_lexer": "ipython3",
   "version": "3.5.2"
  }
 },
 "nbformat": 4,
 "nbformat_minor": 0
}

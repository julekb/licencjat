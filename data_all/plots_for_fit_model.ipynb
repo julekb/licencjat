{
 "cells": [
  {
   "cell_type": "code",
   "execution_count": null,
   "metadata": {
    "collapsed": false
   },
   "outputs": [],
   "source": [
    "import pandas as pd\n",
    "import numpy as np\n",
    "import pickle as pkl\n",
    "\n",
    "from sklearn import linear_model\n",
    "from bokeh.plotting import figure, show, output_notebook\n",
    "from bokeh.charts import Scatter, show\n",
    "output_notebook()\n",
    "\n",
    "with open('dataframe.pkl', 'rb') as f:\n",
    "    df = pkl.load(f)"
   ]
  },
  {
   "cell_type": "code",
   "execution_count": null,
   "metadata": {
    "collapsed": true
   },
   "outputs": [],
   "source": [
    "def plot_coef(model, title):\n",
    "    X = [x.intercept_ for x in df[model].values]\n",
    "    Y= [y.coef_[0] for y in df[model].values]\n",
    "    \n",
    "    f = figure(title=title)\n",
    "    f.scatter(x=X, y=Y, color='navy', size=6, alpha=.3)\n",
    "    show(f)"
   ]
  },
  {
   "cell_type": "code",
   "execution_count": null,
   "metadata": {
    "collapsed": false
   },
   "outputs": [],
   "source": [
    "for  model in df.columns[:6]:\n",
    "    plot_coef(model, 'intercept / coef '+model)"
   ]
  },
  {
   "cell_type": "code",
   "execution_count": null,
   "metadata": {
    "collapsed": true
   },
   "outputs": [],
   "source": []
  }
 ],
 "metadata": {
  "kernelspec": {
   "display_name": "Python 3",
   "language": "python",
   "name": "python3"
  },
  "language_info": {
   "codemirror_mode": {
    "name": "ipython",
    "version": 3
   },
   "file_extension": ".py",
   "mimetype": "text/x-python",
   "name": "python",
   "nbconvert_exporter": "python",
   "pygments_lexer": "ipython3",
   "version": "3.5.2"
  }
 },
 "nbformat": 4,
 "nbformat_minor": 0
}

{
 "cells": [
  {
   "cell_type": "code",
   "execution_count": null,
   "metadata": {
    "collapsed": false
   },
   "outputs": [],
   "source": [
    "import pandas as pd\n",
    "import numpy as np\n",
    "import pickle as pkl\n",
    "\n",
    "from sklearn import linear_model\n",
    "from sklearn.metrics  import mean_squared_error as mse\n",
    "\n",
    "from bokeh.plotting import figure, show, output_notebook\n",
    "from bokeh.charts import Scatter, show, Histogram\n",
    "from bokeh.layouts import row\n",
    "output_notebook()\n",
    "\n",
    "# with open('dataframe.pkl', 'rb') as f:\n",
    "#     df = pkl.load(f)\n",
    "    \n",
    "models = ['regr', 'regr_ey', 'regr_log', 'nb1NN', 'nb2NN', 'nb3NN']"
   ]
  },
  {
   "cell_type": "code",
   "execution_count": null,
   "metadata": {
    "collapsed": false
   },
   "outputs": [],
   "source": [
    "# uploading data from files\n",
    "path = '../messy_data/'\n",
    "with open(path+'df.pkl', 'rb') as f:\n",
    "    df_regr = pkl.load(f)\n",
    "with open(path+'dataframeALL_regr_ey.pkl', 'rb') as f:\n",
    "    df_ey = pkl.load(f)\n",
    "with open(path+'dataframeALL_regr_log.pkl', 'rb') as f:\n",
    "    df_log = pkl.load(f)"
   ]
  },
  {
   "cell_type": "code",
   "execution_count": null,
   "metadata": {
    "collapsed": false
   },
   "outputs": [],
   "source": [
    "# uploading data from folder pkl_data\n",
    "path = '../pkl_data/'\n",
    "\n",
    "with open(path+'avg_data.pkl', 'rb') as f:\n",
    "\tavg_data = pkl.load(f)\n",
    "\n",
    "with open(path+'ind_models.pkl', 'rb') as f:\n",
    "    ind_models = pkl.load(f)\n",
    "    \n",
    "zero = linear_model.LinearRegression()\n",
    "zero.intercept_, zero.coef_ = 0, np.array([1])"
   ]
  },
  {
   "cell_type": "code",
   "execution_count": null,
   "metadata": {
    "collapsed": true
   },
   "outputs": [],
   "source": [
    "# df_err_*_diff dataframe with differences with and without a model *\n",
    "with open(path+'df_err_regr.pkl', 'rb') as f:\n",
    "    df_err_regr = pkl.load(f)\n",
    "with open(path+'df_err_regr_ey.pkl', 'rb') as f:\n",
    "    df_err_regr_ey = pkl.load(f)\n",
    "# with open(path+'df_err_regr_log.pkl', 'rb') as f:\n",
    "#     df_err_regr_logx = pkl.load(f)\n",
    "with open(path+'df_err_nb1NN.pkl', 'rb') as f:\n",
    "    df_err_nb1NN = pkl.load(f)\n",
    "with open(path+'df_err_nb2NN.pkl', 'rb') as f:\n",
    "    df_err_nb2NN = pkl.load(f)\n",
    "with open(path+'df_err_nb3NN.pkl', 'rb') as f:\n",
    "    df_err_nb3NN = pkl.load(f)\n",
    "with open(path+'df_err_nomodel.pkl', 'rb') as f:\n",
    "    df_err_nomodel = pkl.load(f)"
   ]
  },
  {
   "cell_type": "code",
   "execution_count": null,
   "metadata": {
    "collapsed": false
   },
   "outputs": [],
   "source": [
    "def plot_coef(models, title, name):\n",
    "# function for plotting the linear model's intercepts and coefficients\n",
    "# but it's not working for k-NN models, because they're not lin models\n",
    "# models is a DataFrame containing models\n",
    "    X = [x.intercept_ for x in models.values]\n",
    "    Y = [y.coef_[0] for y in models.values]\n",
    "    \n",
    "    f = figure(title=title)\n",
    "    f.xaxis.axis_label = 'Intercept'\n",
    "    f.yaxis.axis_label = 'Coefficient'\n",
    "    f.scatter(x=X, y=Y, color='navy', size=6, alpha=.2)\n",
    "    show(f)\n",
    "    print(name+' intercept standard deviation: ', np.std(X))\n",
    "    print(name+' coefficient standard deviation: ', np.std(Y))\n",
    "    \n",
    "def mse_count(df, model):\n",
    "# function for counting mean squared error for (d_A^2 + d_B^2)/2\n",
    "    X = [x for x in df[model+' d_A'].values]\n",
    "    Y = [y for y in df[model+' d_B'].values]\n",
    "    mse = 0\n",
    "    for (x,y) in zip(X,Y):\n",
    "        mse += (x*x + y*y)/2\n",
    "    return mse/len(X)\n",
    "\n",
    "def mse_count_dAB(df, model, d='A'):\n",
    "# function for counting mean squared error for d_A^2\n",
    "    X = [x for x in df[model+' d_'+d].values]\n",
    "    mse = 0\n",
    "    for x in X:\n",
    "        mse += x*x\n",
    "    return mse/len(X)\n",
    "\n",
    "def ind_mse_plot(df, model):\n",
    "#fun for plotting individual mse errors\n",
    "    n = 31\n",
    "    X = [x*x for x in df[model+' d_A'].values]\n",
    "    Y = [y*y for y in df[model+' d_B'].values]\n",
    "    f = figure(title=\"Individual MSE for \"+model)\n",
    "    for i in range(int(len(X)/n)):\n",
    "        ind_X = X[i*n:i*(n+1)]\n",
    "        ind_Y = Y[i*n:i*(n+1)]\n",
    "        mse = 0\n",
    "        for (x,y) in zip(ind_X, ind_Y):\n",
    "            mse += (x*x + y*y)/2\n",
    "        f.scatter(x=mse/n, color='navy', size=6, alpha=.3)\n",
    "    show(f)\n"
   ]
  },
  {
   "cell_type": "code",
   "execution_count": null,
   "metadata": {
    "collapsed": false
   },
   "outputs": [],
   "source": [
    "# intercept / coef plots\n",
    "plot_coef(ind_models['regr'], 'intercept / coef '+\"regr\", \"regr\")"
   ]
  },
  {
   "cell_type": "code",
   "execution_count": null,
   "metadata": {
    "collapsed": false
   },
   "outputs": [],
   "source": [
    "# intercept / coef plots\n",
    "plot_coef(ind_models['regr_ey'], 'intercept / coef '+\"ey\", 'regr_ey')"
   ]
  },
  {
   "cell_type": "code",
   "execution_count": null,
   "metadata": {
    "collapsed": false
   },
   "outputs": [],
   "source": [
    "# MSE (d_A^2+d_B^2)/2\n",
    "for (df, model) in [(df_regr, 'regr'), (df_ey, 'regr_ey'), (df_log, 'regr_log')]:\n",
    "    print('MSE '+model+': ',mse_count(df, model))"
   ]
  },
  {
   "cell_type": "code",
   "execution_count": null,
   "metadata": {
    "collapsed": false
   },
   "outputs": [],
   "source": [
    "# MSE d_A^2\n",
    "for (df, model) in [(df_regr, 'regr'), (df_ey, 'regr_ey'), (df_log, 'regr_log')]:\n",
    "    print('MSE '+model+': ',mse_count_dAB(df, model, d='A'))"
   ]
  },
  {
   "cell_type": "code",
   "execution_count": null,
   "metadata": {
    "collapsed": false
   },
   "outputs": [],
   "source": [
    "# MSE d_B^2\n",
    "for (df, model) in [(df_regr, 'regr'), (df_ey, 'regr_ey'), (df_log, 'regr_log')]:\n",
    "    print('MSE '+model+': ',mse_count_dAB(df, model, d='B'))"
   ]
  },
  {
   "cell_type": "markdown",
   "metadata": {},
   "source": [
    "Wyniki uzyskane w lutym (średnie d_A^2)\n",
    "MSE regr:     1178.05986567\n",
    "MSE regr_ey:  3200.93215805\n",
    "MSE regr_log: 473686394475.0\n",
    "MSE nb1NN:    2111.55143449\n",
    "MSE nb2NN:    1618.70770597\n",
    "MSE nb3NN:    1432.190942\n",
    "MSE zero:     1970.91485889"
   ]
  },
  {
   "cell_type": "code",
   "execution_count": null,
   "metadata": {
    "collapsed": false,
    "scrolled": false
   },
   "outputs": [],
   "source": [
    "# MSE dopasowania poszczególnych modeli dla każdego uczestnika (też z walidacją leave-one-out).\n",
    "# mean(mse(i) for i in participants) = mse(participants)\n",
    "\n",
    "def model_mse_sd(models):\n",
    "    #### mse: A^-1(y_A) comparing to avg answers\n",
    "    temp, ind_mse, = [], []\n",
    "    remains = ind_models['remain'].values\n",
    "    for i, lin_mod in enumerate(models):\n",
    "        temp.append(lin_mod.predict(float(remains[i])))\n",
    "    return mse(temp, list(avg_data['mean'])*int(len(remains)/31)), np.std(temp) \n",
    "\n",
    "print('model mse and sd regr:    ', model_mse_sd(ind_models['inv regr'].values))\n",
    "print('model mse and sd regr_ey: ', model_mse_sd(ind_models['inv regr_ey'].values))\n",
    "print('model mse and sd zero:    ', model_mse_sd(np.array([zero]*7564)))"
   ]
  },
  {
   "cell_type": "code",
   "execution_count": null,
   "metadata": {
    "collapsed": false,
    "scrolled": true
   },
   "outputs": [],
   "source": [
    "# TODO liczy się w nieskończoność\n",
    "ind_mse_plot(df_regr, 'regr')"
   ]
  },
  {
   "cell_type": "code",
   "execution_count": null,
   "metadata": {
    "collapsed": false
   },
   "outputs": [],
   "source": [
    "# models plots TESTS\n",
    "\"\"\"\"def plot_ind_model(model, plot_title):\n",
    "    f = figure(title=plot_title)\n",
    "    X = avg_data['stimulus']\n",
    "    Y = \n",
    "#     model[]\n",
    "    show(f)\n",
    " \"\"\"\"   "
   ]
  },
  {
   "cell_type": "code",
   "execution_count": null,
   "metadata": {
    "collapsed": false
   },
   "outputs": [],
   "source": [
    "def compare_ind_zero_model(inv_ind_models, remains):\n",
    "#### comparing communication error with and without individual model####\n",
    "# ind_model is a DataFrame containing one model / it's a column ['model_name'] from ind_models\n",
    "# column['remain'] from ind_models\n",
    "\n",
    "    # participants = len(data_all)/31\n",
    "    # N = len(data_all[0])\n",
    "    participants = 243\n",
    "    N = 31\n",
    "\n",
    "    zero_model_diff = []\n",
    "    ind_model_diff = []\n",
    "\n",
    "    for i in range(participants):\n",
    "        for j in range(i+1,participants):\n",
    "            for k in range(N):\n",
    "                A, B = inv_ind_models.loc[i,k], inv_ind_models.loc[j,k]\n",
    "                A_y, B_y = float(remains.loc[i,k]), float(remains.loc[j,k])\n",
    "                # diff between raw answers\n",
    "                zero_model_diff.append(A_y - B_y)\n",
    "                #  diff between answers with individual models\n",
    "                ind_model_diff.append(float(A.predict(A_y) - B.predict(B_y)))\n",
    "        print(i)\n",
    "    # dif = [zero-ind for zero, ind in zip(zero_model_diff,ind_model_diff)]\n",
    "    # ind_zero_mse = mse(zero_model_diff, ind_model_diff)\n",
    "    # return np.mean(dif), ind_zero_mse\n",
    "    return zero_model_diff, ind_model_diff\n",
    "\n",
    "def compare_ind_zero_model2(ind_models, inv_ind_models, remains):\n",
    "#### comparing communication error with and without individual model####\n",
    "# ind_model is a DataFrame containing one model / it's a column ['model_name'] from ind_models\n",
    "# column['remain'] from ind_models\n",
    "\n",
    "# here it is B(A^-1(A_y)) - B_y\n",
    "\n",
    "    # participants = len(data_all)/31\n",
    "    # N = len(data_all[0])\n",
    "    participants = 243\n",
    "    N = 31\n",
    "\n",
    "    zero_model_diff = []\n",
    "    ind_model_diff = []\n",
    "\n",
    "    for i in range(participants):\n",
    "        for j in range(i+1,participants):\n",
    "            for k in range(N):\n",
    "                A, B = inv_ind_models.loc[i,k], ind_models.loc[j,k]\n",
    "                A_y, B_y = float(remains.loc[i,k]), float(remains.loc[j,k])\n",
    "                # diff between raw answers\n",
    "                zero_model_diff.append(A_y - B_y)\n",
    "                #  diff between answers with individual models\n",
    "                ind_model_diff.append(float(B.predict(float(A.predict(A_y)) - B_y)))\n",
    "                \n",
    "    # dif = [zero-ind for zero, ind in zip(zero_model_diff,ind_model_diff)]\n",
    "    # ind_zero_mse = mse(zero_model_diff, ind_model_diff)\n",
    "    # return np.mean(dif), ind_zero_mse\n",
    "    return zero_model_diff, ind_model_diff"
   ]
  },
  {
   "cell_type": "code",
   "execution_count": null,
   "metadata": {
    "collapsed": true
   },
   "outputs": [],
   "source": [
    "f = figure(title=title)\n",
    "f.xaxis.axis_label = 'Intercept'\n",
    "f.yaxis.axis_label = 'Coefficient'\n",
    "f.scatter(x=zero_model_diff, y=Y, color='navy', size=6, alpha=.2)\n",
    "show(f)\n",
    "print('intercept standard deviation: ', np.std(X))\n",
    "print('coefficient standard deviation: ', np.std(Y))"
   ]
  },
  {
   "cell_type": "markdown",
   "metadata": {},
   "source": [
    "# REGR histograms"
   ]
  },
  {
   "cell_type": "code",
   "execution_count": null,
   "metadata": {
    "collapsed": true
   },
   "outputs": [],
   "source": [
    "inv_regr = ind_models['inv regr']\n",
    "remains = ind_models['remain']\n",
    "(zero_model_diff, ind_model_diff) = compare_ind_zero_model(inv_regr, remains)\n",
    "\n",
    "#  B(A(A_y))\n",
    "regr = ind_models['regr']\n",
    "ind_model_diff2 = compare_ind_zero_model2(regr, inv_regr, remains)[1]"
   ]
  },
  {
   "cell_type": "code",
   "execution_count": null,
   "metadata": {
    "collapsed": false,
    "scrolled": false
   },
   "outputs": [],
   "source": [
    "#### histograms presenting the communication differences between to agents\n",
    "# REGR\n",
    "\n",
    "p1 = Histogram(ind_model_diff, title='Individual regr difference', bins=100, xgrid=True)\n",
    "p1.xaxis.axis_label = 'difference'\n",
    "p1.yaxis.axis_label = 'occurring'\n",
    "p1.y_range.end = 60000\n",
    "p1.x_range.start = -200\n",
    "p1.x_range.end = 200\n",
    "\n",
    "\n",
    "p12 = Histogram(ind_model_diff2, title='Individual regr difference2', bins=100, xgrid=True)\n",
    "p12.xaxis.axis_label = 'difference'\n",
    "p12.yaxis.axis_label = 'occurring'\n",
    "p12.y_range.end = 60000\n",
    "p12.x_range.start = -200\n",
    "p12.x_range.end = 200\n",
    "\n",
    "p2 = Histogram(zero_model_diff, title='Zero model difference', bins=100, xgrid=True)\n",
    "p2.xaxis.axis_label = 'difference'\n",
    "p2.yaxis.axis_label = 'occurring'\n",
    "p2.y_range.end = 60000\n",
    "p2.x_range.start = -200\n",
    "p2.x_range.end = 200\n",
    "\n",
    "show(row(p1,p12, p2))"
   ]
  },
  {
   "cell_type": "code",
   "execution_count": null,
   "metadata": {
    "collapsed": false
   },
   "outputs": [],
   "source": [
    "zero_ind_diff = [zero-ind for (zero, ind) in zip(zero_model_diff, ind_model_diff)]\n",
    "zero_ind_diff2 = [zero-ind for (zero, ind) in zip(zero_model_diff, ind_model_diff2)]\n",
    "\n",
    "p3 = Histogram(zero_ind_diff, title='Zero model difference - Ind regr difference', bins=100, xgrid=True)\n",
    "p3.xaxis.axis_label = 'difference'\n",
    "p3.yaxis.axis_label = 'occurring'\n",
    "p3.y_range.end = 60000\n",
    "p3.x_range.start = -200\n",
    "p3.x_range.end = 200\n",
    "\n",
    "p4 = Histogram(zero_ind_diff2, title='Zero model difference - Ind regr difference2', bins=100, xgrid=True)\n",
    "p4.xaxis.axis_label = 'difference'\n",
    "p4.yaxis.axis_label = 'occurring'\n",
    "p4.y_range.end = 60000\n",
    "p4.x_range.start = -200\n",
    "p4.x_range.end = 200\n",
    "\n",
    "show(row(p3,p4))\n"
   ]
  },
  {
   "cell_type": "code",
   "execution_count": null,
   "metadata": {
    "collapsed": false,
    "scrolled": false
   },
   "outputs": [],
   "source": [
    "# difference between ind_model_diff(A(A_y)-B(B_Y)) and ind_model_diff2(B(A(A_Y))-B_y)\n",
    "between = [ind1 - ind2 for (ind1, ind2) in zip(ind_model_diff, ind_model_diff2)]\n",
    "\n",
    "p5 = Histogram(between, title='Ind regr difference - Ind regr difference 2', bins=100, xgrid=True)\n",
    "p5.xaxis.axis_label = 'difference'\n",
    "p5.yaxis.axis_label = 'occurring'\n",
    "p5.y_range.end = 80000\n",
    "p5.x_range.start = -200\n",
    "p5.x_range.end = 200\n",
    "\n",
    "show(p5)"
   ]
  },
  {
   "cell_type": "markdown",
   "metadata": {},
   "source": [
    "# REGR_EY histograms"
   ]
  },
  {
   "cell_type": "code",
   "execution_count": null,
   "metadata": {
    "collapsed": true
   },
   "outputs": [],
   "source": [
    "inv_regr_ey = ind_models['inv regr_ey']\n",
    "ind_regr_ey_diff = compare_ind_zero_model(inv_regr_ey, remains)[1]"
   ]
  },
  {
   "cell_type": "code",
   "execution_count": null,
   "metadata": {
    "collapsed": false,
    "scrolled": false
   },
   "outputs": [],
   "source": [
    "#### histograms presenting the communication differences between to agents\n",
    "# REGR_EY\n",
    "p6 = Histogram(ind_regr_ey_diff, title='Individual regr_ey difference', bins=200, xgrid=True)\n",
    "p6.xaxis.axis_label = 'difference'\n",
    "p6.yaxis.axis_label = 'occurring'\n",
    "p6.y_range.end = 200000\n",
    "p6.x_range.start = -100\n",
    "p6.x_range.end = 100\n",
    "\n",
    "show(p6)"
   ]
  },
  {
   "cell_type": "code",
   "execution_count": null,
   "metadata": {
    "collapsed": false,
    "scrolled": true
   },
   "outputs": [],
   "source": [
    "zero_regr_ey_diff = [zero-regr_ey for (zero, regr_ey) in zip(zero_model_diff, ind_regr_ey_diff)]\n",
    "\n",
    "p3 = Histogram(zero_regr_ey_diff, title='Zero model difference - Ind regr_ey difference', bins=100, xgrid=True)\n",
    "p3.xaxis.axis_label = 'difference'\n",
    "p3.yaxis.axis_label = 'occurring'\n",
    "p3.y_range.end = 60000\n",
    "p3.x_range.start = -200\n",
    "p3.x_range.end = 200\n",
    "\n",
    "show(p3)"
   ]
  },
  {
   "cell_type": "code",
   "execution_count": null,
   "metadata": {
    "collapsed": false,
    "scrolled": true
   },
   "outputs": [],
   "source": [
    "#### mean difference for histograms above\n",
    "\n",
    "print('mean for zero model diff:       ', np.mean(zero_model_diff))\n",
    "print('mean for ind regr diff:         ', np.mean(ind_model_diff))\n",
    "print('mean for (zero - regr) diff:    ', np.mean(zero_ind_diff))\n",
    "print('mean for ind regr2 diff:        ', np.mean(ind_model_diff2))\n",
    "print('mean for (zero - regr2) diff    ', np.mean(zero_ind_diff2))\n",
    "print('mean for ind regr_ey diff:      ', np.mean(ind_regr_ey_diff))\n",
    "#### standard deviation for histograms above\n",
    "print('SD for zero model diff:         ', np.std(zero_model_diff))\n",
    "print('SD for ind regr diff:           ', np.std(ind_model_diff))\n",
    "print('SD for (zero - regr) diff:      ', np.std(zero_ind_diff))\n",
    "print('SD for ind regr2 diff:          ', np.std(ind_model_diff2))\n",
    "print('SD for (zero - regr2) diff      ', np.std(zero_ind_diff2))\n",
    "print('SD for ind regr_ey diff:        ', np.std(ind_regr_ey_diff))"
   ]
  },
  {
   "cell_type": "code",
   "execution_count": null,
   "metadata": {
    "collapsed": false
   },
   "outputs": [],
   "source": [
    "# TESTS\n",
    "import scipy.special\n",
    "\n",
    "from bokeh.layouts import gridplot\n",
    "from bokeh.plotting import figure, show, output_file\n",
    "\n",
    "p1 = figure(title=\"Normal Distribution (μ=0, σ=0.5)\",tools=\"save\",\n",
    "            background_fill_color=\"#E8DDCB\")\n",
    "\n",
    "xx = [1,1,2,3,0,0,0,0,-1,-1,-3,1, 1.1, 3]\n",
    "\n",
    "mu, sigma = 0, 0.5\n",
    "\n",
    "measured = np.random.normal(mu, sigma, 1000)\n",
    "hist, edges = np.histogram(measured, density=True, bins=50)\n",
    "\n",
    "x = np.linspace(-2, 2, 1000)\n",
    "pdf = 1/(sigma * np.sqrt(2*np.pi)) * np.exp(-(x-mu)**2 / (2*sigma**2))\n",
    "cdf = (1+scipy.special.erf((x-mu)/np.sqrt(2*sigma**2)))/2\n",
    "hist = np.histogram(ind_model_diff, density=True, bins=50)\n",
    "p1.quad(top=hist, bottom=0, left=edges[:-1], right=edges[1:],\n",
    "        fill_color=\"#036564\", line_color=\"#033649\")\n",
    "#p1.line(x, pdf, line_color=\"#D95B43\", line_width=8, alpha=0.7, legend=\"PDF\")\n",
    "#p1.line(x, cdf, line_color=\"white\", line_width=2, alpha=0.7, legend=\"CDF\")\n",
    "\n",
    "p1.legend.location = \"top_left\"\n",
    "p1.xaxis.axis_label = 'x'\n",
    "p1.yaxis.axis_label = 'Pr(x)'\n"
   ]
  }
 ],
 "metadata": {
  "kernelspec": {
   "display_name": "Python 3",
   "language": "python",
   "name": "python3"
  },
  "language_info": {
   "codemirror_mode": {
    "name": "ipython",
    "version": 3
   },
   "file_extension": ".py",
   "mimetype": "text/x-python",
   "name": "python",
   "nbconvert_exporter": "python",
   "pygments_lexer": "ipython3",
   "version": "3.5.2"
  }
 },
 "nbformat": 4,
 "nbformat_minor": 0
}
